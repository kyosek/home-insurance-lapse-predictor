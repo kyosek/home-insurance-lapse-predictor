{
 "cells": [
  {
   "cell_type": "markdown",
   "metadata": {},
   "source": [
    "# Exploratory Data Analysis\n",
    "\n",
    "I will explore the given data first. Main objectives here are:\n",
    "- Understand the target distribution\n",
    "- Understand the feature \n",
    "    - Explore their distribution, correlation, relation to the preparation time\n",
    "    - Explore what kind of features I can use for a model\n",
    "- \n",
    "\n",
    "## Summary of the analysis\n",
    "\n",
    "## Data check\n",
    "### Missing values\n",
    "There are many missing values in this data. Many cases are corresponding to the target variable (\"POL_STATUS\"), so I can exclude those missing values. Also there are some columns having missing values more than 90% so I think we can remove them as well. \n",
    "\n",
    "### Duplicates\n",
    "No duplicated rows.\n",
    "\n",
    "## Target variable\n",
    "There are 4 classes in the target variable. We can exclude \"Unknown\" status. Although both of lapse and cancel mean not continueing with the policy, I think their characteristics are a bit different. For example, if a homeowner found a better policy, then they might want to switch to that policy. So here, I will create a new target variable called \"lapse\" that merely checking if the policy was lapsed or not. After creating this target variable, the lapse class is 27.8% of the data, which is a bit more than my expectation. I thought it might be severely imbalanced but seems like there are more cases of lapse.\n",
    "\n",
    "## Feature analysis\n",
    "- [Homeowner-related features\n",
    "- [Home-related features\n",
    "- [Historical behaviour features\n",
    "- [Renewal features]\n",
    "\n",
    "### Potential features we could use if available\n",
    "Previous home insurance history might be good indication. As it is available in the real life case and I think it is a good indicater how responsile the homeowner is. If there's no history of lapsed insurance, that indicates the owner is responsible, financially stable and less risk. This data is focusing on each policies but if there's another table related the homeowner, that would be very useful.\n",
    "\n",
    "Sub-prime loan - financial crisis: ending date of policy, length of policy, cycle of policy\n",
    "When lapsed?\n",
    "\n",
    "## Table of contents\n",
    "[Data check](#Data-check)\n",
    "\n",
    "[Target variable](#Target-variable)\n",
    "\n",
    "[Features analysis](#Feature-analysis)\n",
    "- [Homeowner-related features](#Homeowner-related-features)\n",
    "- [Home-related features](#Home-related-features)\n",
    "- [Historical behaviour features](#Historical-behaviour-features)\n",
    "\n",
    "[Potential features we could use if available](#Potential-features-we-could-use-if-available)\n"
   ]
  },
  {
   "cell_type": "code",
   "execution_count": 209,
   "metadata": {},
   "outputs": [],
   "source": [
    "# Import modules\n",
    "import os\n",
    "import pandas as pd\n",
    "import numpy as np\n",
    "import seaborn as sns\n",
    "import matplotlib.pyplot as plt\n",
    "from datetime import datetime\n",
    "from scipy import stats as sp\n",
    "import matplotlib.dates as mdates"
   ]
  },
  {
   "cell_type": "code",
   "execution_count": 3,
   "metadata": {},
   "outputs": [],
   "source": [
    "os.chdir(\"/Users/kyosuke/projects/home-insurance/\")"
   ]
  },
  {
   "cell_type": "code",
   "execution_count": 4,
   "metadata": {},
   "outputs": [],
   "source": [
    "pd.options.display.max_rows = None\n",
    "pd.options.display.max_columns = None"
   ]
  },
  {
   "cell_type": "markdown",
   "metadata": {},
   "source": [
    "## Data check\n",
    "This data contains 256,136 rows with 66 columns. \n",
    "\n",
    "### Missing values\n",
    "There are many missing values in this data. Many cases are corresponding to the target variable (\"POL_STATUS\"), so I can exclude those missing values. Also there are some columns having missing values more than 90% so I think we can remove them as well. \n",
    "\n",
    "### Duplicates\n",
    "No duplicated rows."
   ]
  },
  {
   "cell_type": "code",
   "execution_count": 5,
   "metadata": {},
   "outputs": [],
   "source": [
    "df = pd.read_csv(\"resources/data/home_insurance.csv\")"
   ]
  },
  {
   "cell_type": "code",
   "execution_count": 6,
   "metadata": {},
   "outputs": [
    {
     "data": {
      "text/plain": [
       "(256136, 66)"
      ]
     },
     "execution_count": 6,
     "metadata": {},
     "output_type": "execute_result"
    }
   ],
   "source": [
    "df.shape"
   ]
  },
  {
   "cell_type": "code",
   "execution_count": 7,
   "metadata": {},
   "outputs": [
    {
     "data": {
      "text/html": [
       "<div>\n",
       "<style scoped>\n",
       "    .dataframe tbody tr th:only-of-type {\n",
       "        vertical-align: middle;\n",
       "    }\n",
       "\n",
       "    .dataframe tbody tr th {\n",
       "        vertical-align: top;\n",
       "    }\n",
       "\n",
       "    .dataframe thead th {\n",
       "        text-align: right;\n",
       "    }\n",
       "</style>\n",
       "<table border=\"1\" class=\"dataframe\">\n",
       "  <thead>\n",
       "    <tr style=\"text-align: right;\">\n",
       "      <th></th>\n",
       "      <th>QUOTE_DATE</th>\n",
       "      <th>COVER_START</th>\n",
       "      <th>CLAIM3YEARS</th>\n",
       "      <th>P1_EMP_STATUS</th>\n",
       "      <th>P1_PT_EMP_STATUS</th>\n",
       "      <th>BUS_USE</th>\n",
       "      <th>CLERICAL</th>\n",
       "      <th>AD_BUILDINGS</th>\n",
       "      <th>RISK_RATED_AREA_B</th>\n",
       "      <th>SUM_INSURED_BUILDINGS</th>\n",
       "      <th>NCD_GRANTED_YEARS_B</th>\n",
       "      <th>AD_CONTENTS</th>\n",
       "      <th>RISK_RATED_AREA_C</th>\n",
       "      <th>SUM_INSURED_CONTENTS</th>\n",
       "      <th>NCD_GRANTED_YEARS_C</th>\n",
       "      <th>CONTENTS_COVER</th>\n",
       "      <th>BUILDINGS_COVER</th>\n",
       "      <th>SPEC_SUM_INSURED</th>\n",
       "      <th>SPEC_ITEM_PREM</th>\n",
       "      <th>UNSPEC_HRP_PREM</th>\n",
       "      <th>P1_DOB</th>\n",
       "      <th>P1_MAR_STATUS</th>\n",
       "      <th>P1_POLICY_REFUSED</th>\n",
       "      <th>P1_SEX</th>\n",
       "      <th>APPR_ALARM</th>\n",
       "      <th>APPR_LOCKS</th>\n",
       "      <th>BEDROOMS</th>\n",
       "      <th>ROOF_CONSTRUCTION</th>\n",
       "      <th>WALL_CONSTRUCTION</th>\n",
       "      <th>FLOODING</th>\n",
       "      <th>LISTED</th>\n",
       "      <th>MAX_DAYS_UNOCC</th>\n",
       "      <th>NEIGH_WATCH</th>\n",
       "      <th>OCC_STATUS</th>\n",
       "      <th>OWNERSHIP_TYPE</th>\n",
       "      <th>PAYING_GUESTS</th>\n",
       "      <th>PROP_TYPE</th>\n",
       "      <th>SAFE_INSTALLED</th>\n",
       "      <th>SEC_DISC_REQ</th>\n",
       "      <th>SUBSIDENCE</th>\n",
       "      <th>YEARBUILT</th>\n",
       "      <th>CAMPAIGN_DESC</th>\n",
       "      <th>PAYMENT_METHOD</th>\n",
       "      <th>PAYMENT_FREQUENCY</th>\n",
       "      <th>LEGAL_ADDON_PRE_REN</th>\n",
       "      <th>LEGAL_ADDON_POST_REN</th>\n",
       "      <th>HOME_EM_ADDON_PRE_REN</th>\n",
       "      <th>HOME_EM_ADDON_POST_REN</th>\n",
       "      <th>GARDEN_ADDON_PRE_REN</th>\n",
       "      <th>GARDEN_ADDON_POST_REN</th>\n",
       "      <th>KEYCARE_ADDON_PRE_REN</th>\n",
       "      <th>KEYCARE_ADDON_POST_REN</th>\n",
       "      <th>HP1_ADDON_PRE_REN</th>\n",
       "      <th>HP1_ADDON_POST_REN</th>\n",
       "      <th>HP2_ADDON_PRE_REN</th>\n",
       "      <th>HP2_ADDON_POST_REN</th>\n",
       "      <th>HP3_ADDON_PRE_REN</th>\n",
       "      <th>HP3_ADDON_POST_REN</th>\n",
       "      <th>MTA_FLAG</th>\n",
       "      <th>MTA_FAP</th>\n",
       "      <th>MTA_APRP</th>\n",
       "      <th>MTA_DATE</th>\n",
       "      <th>LAST_ANN_PREM_GROSS</th>\n",
       "      <th>POL_STATUS</th>\n",
       "      <th>i</th>\n",
       "      <th>Police</th>\n",
       "    </tr>\n",
       "  </thead>\n",
       "  <tbody>\n",
       "    <tr>\n",
       "      <th>0</th>\n",
       "      <td>11/22/2007</td>\n",
       "      <td>22/11/2007</td>\n",
       "      <td>N</td>\n",
       "      <td>R</td>\n",
       "      <td>NaN</td>\n",
       "      <td>N</td>\n",
       "      <td>NaN</td>\n",
       "      <td>Y</td>\n",
       "      <td>19.0</td>\n",
       "      <td>1000000.0</td>\n",
       "      <td>7.0</td>\n",
       "      <td>Y</td>\n",
       "      <td>6.0</td>\n",
       "      <td>50000.0</td>\n",
       "      <td>7.0</td>\n",
       "      <td>Y</td>\n",
       "      <td>Y</td>\n",
       "      <td>7500.0</td>\n",
       "      <td>44.42</td>\n",
       "      <td>12.45</td>\n",
       "      <td>15/06/1939</td>\n",
       "      <td>O</td>\n",
       "      <td>N</td>\n",
       "      <td>M</td>\n",
       "      <td>N</td>\n",
       "      <td>Y</td>\n",
       "      <td>3.0</td>\n",
       "      <td>11.0</td>\n",
       "      <td>15.0</td>\n",
       "      <td>Y</td>\n",
       "      <td>3.0</td>\n",
       "      <td>0.0</td>\n",
       "      <td>N</td>\n",
       "      <td>PH</td>\n",
       "      <td>8.0</td>\n",
       "      <td>0.0</td>\n",
       "      <td>10.0</td>\n",
       "      <td>Y</td>\n",
       "      <td>Y</td>\n",
       "      <td>N</td>\n",
       "      <td>1960.0</td>\n",
       "      <td>NaN</td>\n",
       "      <td>PureDD</td>\n",
       "      <td>NaN</td>\n",
       "      <td>N</td>\n",
       "      <td>N</td>\n",
       "      <td>N</td>\n",
       "      <td>N</td>\n",
       "      <td>N</td>\n",
       "      <td>N</td>\n",
       "      <td>N</td>\n",
       "      <td>N</td>\n",
       "      <td>N</td>\n",
       "      <td>N</td>\n",
       "      <td>N</td>\n",
       "      <td>N</td>\n",
       "      <td>N</td>\n",
       "      <td>N</td>\n",
       "      <td>N</td>\n",
       "      <td>NaN</td>\n",
       "      <td>NaN</td>\n",
       "      <td>NaN</td>\n",
       "      <td>274.81</td>\n",
       "      <td>Lapsed</td>\n",
       "      <td>1</td>\n",
       "      <td>P000001</td>\n",
       "    </tr>\n",
       "    <tr>\n",
       "      <th>1</th>\n",
       "      <td>11/22/2007</td>\n",
       "      <td>01/01/2008</td>\n",
       "      <td>N</td>\n",
       "      <td>E</td>\n",
       "      <td>NaN</td>\n",
       "      <td>Y</td>\n",
       "      <td>N</td>\n",
       "      <td>Y</td>\n",
       "      <td>25.0</td>\n",
       "      <td>1000000.0</td>\n",
       "      <td>6.0</td>\n",
       "      <td>Y</td>\n",
       "      <td>9.0</td>\n",
       "      <td>50000.0</td>\n",
       "      <td>7.0</td>\n",
       "      <td>Y</td>\n",
       "      <td>Y</td>\n",
       "      <td>0.0</td>\n",
       "      <td>0.00</td>\n",
       "      <td>24.60</td>\n",
       "      <td>20/05/1970</td>\n",
       "      <td>M</td>\n",
       "      <td>N</td>\n",
       "      <td>M</td>\n",
       "      <td>N</td>\n",
       "      <td>N</td>\n",
       "      <td>3.0</td>\n",
       "      <td>11.0</td>\n",
       "      <td>15.0</td>\n",
       "      <td>Y</td>\n",
       "      <td>3.0</td>\n",
       "      <td>0.0</td>\n",
       "      <td>N</td>\n",
       "      <td>PH</td>\n",
       "      <td>3.0</td>\n",
       "      <td>0.0</td>\n",
       "      <td>2.0</td>\n",
       "      <td>N</td>\n",
       "      <td>N</td>\n",
       "      <td>N</td>\n",
       "      <td>1960.0</td>\n",
       "      <td>NaN</td>\n",
       "      <td>PureDD</td>\n",
       "      <td>NaN</td>\n",
       "      <td>Y</td>\n",
       "      <td>Y</td>\n",
       "      <td>N</td>\n",
       "      <td>N</td>\n",
       "      <td>N</td>\n",
       "      <td>N</td>\n",
       "      <td>N</td>\n",
       "      <td>N</td>\n",
       "      <td>N</td>\n",
       "      <td>N</td>\n",
       "      <td>N</td>\n",
       "      <td>N</td>\n",
       "      <td>N</td>\n",
       "      <td>N</td>\n",
       "      <td>Y</td>\n",
       "      <td>308.83</td>\n",
       "      <td>-9.27</td>\n",
       "      <td>NaN</td>\n",
       "      <td>308.83</td>\n",
       "      <td>Live</td>\n",
       "      <td>2</td>\n",
       "      <td>P000002</td>\n",
       "    </tr>\n",
       "    <tr>\n",
       "      <th>2</th>\n",
       "      <td>11/23/2007</td>\n",
       "      <td>23/11/2007</td>\n",
       "      <td>N</td>\n",
       "      <td>E</td>\n",
       "      <td>NaN</td>\n",
       "      <td>N</td>\n",
       "      <td>NaN</td>\n",
       "      <td>N</td>\n",
       "      <td>NaN</td>\n",
       "      <td>0.0</td>\n",
       "      <td>0.0</td>\n",
       "      <td>Y</td>\n",
       "      <td>12.0</td>\n",
       "      <td>50000.0</td>\n",
       "      <td>7.0</td>\n",
       "      <td>N</td>\n",
       "      <td>Y</td>\n",
       "      <td>0.0</td>\n",
       "      <td>0.00</td>\n",
       "      <td>0.00</td>\n",
       "      <td>10/06/1947</td>\n",
       "      <td>S</td>\n",
       "      <td>N</td>\n",
       "      <td>M</td>\n",
       "      <td>Y</td>\n",
       "      <td>Y</td>\n",
       "      <td>2.0</td>\n",
       "      <td>11.0</td>\n",
       "      <td>15.0</td>\n",
       "      <td>Y</td>\n",
       "      <td>3.0</td>\n",
       "      <td>0.0</td>\n",
       "      <td>Y</td>\n",
       "      <td>PH</td>\n",
       "      <td>8.0</td>\n",
       "      <td>0.0</td>\n",
       "      <td>9.0</td>\n",
       "      <td>N</td>\n",
       "      <td>Y</td>\n",
       "      <td>N</td>\n",
       "      <td>1946.0</td>\n",
       "      <td>NaN</td>\n",
       "      <td>PureDD</td>\n",
       "      <td>NaN</td>\n",
       "      <td>Y</td>\n",
       "      <td>Y</td>\n",
       "      <td>N</td>\n",
       "      <td>N</td>\n",
       "      <td>N</td>\n",
       "      <td>N</td>\n",
       "      <td>N</td>\n",
       "      <td>N</td>\n",
       "      <td>N</td>\n",
       "      <td>N</td>\n",
       "      <td>N</td>\n",
       "      <td>N</td>\n",
       "      <td>N</td>\n",
       "      <td>N</td>\n",
       "      <td>Y</td>\n",
       "      <td>52.65</td>\n",
       "      <td>52.65</td>\n",
       "      <td>03/11/2010</td>\n",
       "      <td>52.65</td>\n",
       "      <td>Live</td>\n",
       "      <td>3</td>\n",
       "      <td>P000003</td>\n",
       "    </tr>\n",
       "    <tr>\n",
       "      <th>3</th>\n",
       "      <td>11/23/2007</td>\n",
       "      <td>12/12/2007</td>\n",
       "      <td>N</td>\n",
       "      <td>R</td>\n",
       "      <td>NaN</td>\n",
       "      <td>N</td>\n",
       "      <td>NaN</td>\n",
       "      <td>N</td>\n",
       "      <td>NaN</td>\n",
       "      <td>0.0</td>\n",
       "      <td>0.0</td>\n",
       "      <td>Y</td>\n",
       "      <td>14.0</td>\n",
       "      <td>50000.0</td>\n",
       "      <td>7.0</td>\n",
       "      <td>N</td>\n",
       "      <td>Y</td>\n",
       "      <td>0.0</td>\n",
       "      <td>0.00</td>\n",
       "      <td>0.00</td>\n",
       "      <td>16/12/1925</td>\n",
       "      <td>W</td>\n",
       "      <td>N</td>\n",
       "      <td>F</td>\n",
       "      <td>N</td>\n",
       "      <td>Y</td>\n",
       "      <td>2.0</td>\n",
       "      <td>11.0</td>\n",
       "      <td>15.0</td>\n",
       "      <td>Y</td>\n",
       "      <td>3.0</td>\n",
       "      <td>0.0</td>\n",
       "      <td>N</td>\n",
       "      <td>PH</td>\n",
       "      <td>18.0</td>\n",
       "      <td>0.0</td>\n",
       "      <td>19.0</td>\n",
       "      <td>N</td>\n",
       "      <td>Y</td>\n",
       "      <td>N</td>\n",
       "      <td>1870.0</td>\n",
       "      <td>NaN</td>\n",
       "      <td>NonDD</td>\n",
       "      <td>NaN</td>\n",
       "      <td>N</td>\n",
       "      <td>N</td>\n",
       "      <td>N</td>\n",
       "      <td>N</td>\n",
       "      <td>N</td>\n",
       "      <td>N</td>\n",
       "      <td>N</td>\n",
       "      <td>N</td>\n",
       "      <td>N</td>\n",
       "      <td>N</td>\n",
       "      <td>N</td>\n",
       "      <td>N</td>\n",
       "      <td>N</td>\n",
       "      <td>N</td>\n",
       "      <td>N</td>\n",
       "      <td>NaN</td>\n",
       "      <td>NaN</td>\n",
       "      <td>NaN</td>\n",
       "      <td>54.23</td>\n",
       "      <td>Live</td>\n",
       "      <td>4</td>\n",
       "      <td>P000004</td>\n",
       "    </tr>\n",
       "    <tr>\n",
       "      <th>4</th>\n",
       "      <td>11/22/2007</td>\n",
       "      <td>15/12/2007</td>\n",
       "      <td>N</td>\n",
       "      <td>R</td>\n",
       "      <td>NaN</td>\n",
       "      <td>N</td>\n",
       "      <td>NaN</td>\n",
       "      <td>Y</td>\n",
       "      <td>5.0</td>\n",
       "      <td>1000000.0</td>\n",
       "      <td>7.0</td>\n",
       "      <td>Y</td>\n",
       "      <td>10.0</td>\n",
       "      <td>50000.0</td>\n",
       "      <td>7.0</td>\n",
       "      <td>Y</td>\n",
       "      <td>Y</td>\n",
       "      <td>0.0</td>\n",
       "      <td>0.00</td>\n",
       "      <td>19.82</td>\n",
       "      <td>11/02/1936</td>\n",
       "      <td>M</td>\n",
       "      <td>N</td>\n",
       "      <td>M</td>\n",
       "      <td>Y</td>\n",
       "      <td>Y</td>\n",
       "      <td>3.0</td>\n",
       "      <td>11.0</td>\n",
       "      <td>15.0</td>\n",
       "      <td>Y</td>\n",
       "      <td>3.0</td>\n",
       "      <td>0.0</td>\n",
       "      <td>N</td>\n",
       "      <td>PH</td>\n",
       "      <td>8.0</td>\n",
       "      <td>0.0</td>\n",
       "      <td>1.0</td>\n",
       "      <td>N</td>\n",
       "      <td>Y</td>\n",
       "      <td>N</td>\n",
       "      <td>1960.0</td>\n",
       "      <td>NaN</td>\n",
       "      <td>DD-Other</td>\n",
       "      <td>NaN</td>\n",
       "      <td>Y</td>\n",
       "      <td>Y</td>\n",
       "      <td>N</td>\n",
       "      <td>N</td>\n",
       "      <td>Y</td>\n",
       "      <td>Y</td>\n",
       "      <td>N</td>\n",
       "      <td>N</td>\n",
       "      <td>N</td>\n",
       "      <td>N</td>\n",
       "      <td>N</td>\n",
       "      <td>N</td>\n",
       "      <td>N</td>\n",
       "      <td>N</td>\n",
       "      <td>N</td>\n",
       "      <td>NaN</td>\n",
       "      <td>NaN</td>\n",
       "      <td>NaN</td>\n",
       "      <td>244.58</td>\n",
       "      <td>Live</td>\n",
       "      <td>5</td>\n",
       "      <td>P000005</td>\n",
       "    </tr>\n",
       "  </tbody>\n",
       "</table>\n",
       "</div>"
      ],
      "text/plain": [
       "   QUOTE_DATE COVER_START CLAIM3YEARS P1_EMP_STATUS P1_PT_EMP_STATUS BUS_USE  \\\n",
       "0  11/22/2007  22/11/2007           N             R              NaN       N   \n",
       "1  11/22/2007  01/01/2008           N             E              NaN       Y   \n",
       "2  11/23/2007  23/11/2007           N             E              NaN       N   \n",
       "3  11/23/2007  12/12/2007           N             R              NaN       N   \n",
       "4  11/22/2007  15/12/2007           N             R              NaN       N   \n",
       "\n",
       "  CLERICAL AD_BUILDINGS  RISK_RATED_AREA_B  SUM_INSURED_BUILDINGS  \\\n",
       "0      NaN            Y               19.0              1000000.0   \n",
       "1        N            Y               25.0              1000000.0   \n",
       "2      NaN            N                NaN                    0.0   \n",
       "3      NaN            N                NaN                    0.0   \n",
       "4      NaN            Y                5.0              1000000.0   \n",
       "\n",
       "   NCD_GRANTED_YEARS_B AD_CONTENTS  RISK_RATED_AREA_C  SUM_INSURED_CONTENTS  \\\n",
       "0                  7.0           Y                6.0               50000.0   \n",
       "1                  6.0           Y                9.0               50000.0   \n",
       "2                  0.0           Y               12.0               50000.0   \n",
       "3                  0.0           Y               14.0               50000.0   \n",
       "4                  7.0           Y               10.0               50000.0   \n",
       "\n",
       "   NCD_GRANTED_YEARS_C CONTENTS_COVER BUILDINGS_COVER  SPEC_SUM_INSURED  \\\n",
       "0                  7.0              Y               Y            7500.0   \n",
       "1                  7.0              Y               Y               0.0   \n",
       "2                  7.0              N               Y               0.0   \n",
       "3                  7.0              N               Y               0.0   \n",
       "4                  7.0              Y               Y               0.0   \n",
       "\n",
       "   SPEC_ITEM_PREM  UNSPEC_HRP_PREM      P1_DOB P1_MAR_STATUS  \\\n",
       "0           44.42            12.45  15/06/1939             O   \n",
       "1            0.00            24.60  20/05/1970             M   \n",
       "2            0.00             0.00  10/06/1947             S   \n",
       "3            0.00             0.00  16/12/1925             W   \n",
       "4            0.00            19.82  11/02/1936             M   \n",
       "\n",
       "  P1_POLICY_REFUSED P1_SEX APPR_ALARM APPR_LOCKS  BEDROOMS  ROOF_CONSTRUCTION  \\\n",
       "0                 N      M          N          Y       3.0               11.0   \n",
       "1                 N      M          N          N       3.0               11.0   \n",
       "2                 N      M          Y          Y       2.0               11.0   \n",
       "3                 N      F          N          Y       2.0               11.0   \n",
       "4                 N      M          Y          Y       3.0               11.0   \n",
       "\n",
       "   WALL_CONSTRUCTION FLOODING  LISTED  MAX_DAYS_UNOCC NEIGH_WATCH OCC_STATUS  \\\n",
       "0               15.0        Y     3.0             0.0           N         PH   \n",
       "1               15.0        Y     3.0             0.0           N         PH   \n",
       "2               15.0        Y     3.0             0.0           Y         PH   \n",
       "3               15.0        Y     3.0             0.0           N         PH   \n",
       "4               15.0        Y     3.0             0.0           N         PH   \n",
       "\n",
       "   OWNERSHIP_TYPE  PAYING_GUESTS  PROP_TYPE SAFE_INSTALLED SEC_DISC_REQ  \\\n",
       "0             8.0            0.0       10.0              Y            Y   \n",
       "1             3.0            0.0        2.0              N            N   \n",
       "2             8.0            0.0        9.0              N            Y   \n",
       "3            18.0            0.0       19.0              N            Y   \n",
       "4             8.0            0.0        1.0              N            Y   \n",
       "\n",
       "  SUBSIDENCE  YEARBUILT  CAMPAIGN_DESC PAYMENT_METHOD  PAYMENT_FREQUENCY  \\\n",
       "0          N     1960.0            NaN         PureDD                NaN   \n",
       "1          N     1960.0            NaN         PureDD                NaN   \n",
       "2          N     1946.0            NaN         PureDD                NaN   \n",
       "3          N     1870.0            NaN          NonDD                NaN   \n",
       "4          N     1960.0            NaN       DD-Other                NaN   \n",
       "\n",
       "  LEGAL_ADDON_PRE_REN LEGAL_ADDON_POST_REN HOME_EM_ADDON_PRE_REN  \\\n",
       "0                   N                    N                     N   \n",
       "1                   Y                    Y                     N   \n",
       "2                   Y                    Y                     N   \n",
       "3                   N                    N                     N   \n",
       "4                   Y                    Y                     N   \n",
       "\n",
       "  HOME_EM_ADDON_POST_REN GARDEN_ADDON_PRE_REN GARDEN_ADDON_POST_REN  \\\n",
       "0                      N                    N                     N   \n",
       "1                      N                    N                     N   \n",
       "2                      N                    N                     N   \n",
       "3                      N                    N                     N   \n",
       "4                      N                    Y                     Y   \n",
       "\n",
       "  KEYCARE_ADDON_PRE_REN KEYCARE_ADDON_POST_REN HP1_ADDON_PRE_REN  \\\n",
       "0                     N                      N                 N   \n",
       "1                     N                      N                 N   \n",
       "2                     N                      N                 N   \n",
       "3                     N                      N                 N   \n",
       "4                     N                      N                 N   \n",
       "\n",
       "  HP1_ADDON_POST_REN HP2_ADDON_PRE_REN HP2_ADDON_POST_REN HP3_ADDON_PRE_REN  \\\n",
       "0                  N                 N                  N                 N   \n",
       "1                  N                 N                  N                 N   \n",
       "2                  N                 N                  N                 N   \n",
       "3                  N                 N                  N                 N   \n",
       "4                  N                 N                  N                 N   \n",
       "\n",
       "  HP3_ADDON_POST_REN MTA_FLAG  MTA_FAP  MTA_APRP    MTA_DATE  \\\n",
       "0                  N        N      NaN       NaN         NaN   \n",
       "1                  N        Y   308.83     -9.27         NaN   \n",
       "2                  N        Y    52.65     52.65  03/11/2010   \n",
       "3                  N        N      NaN       NaN         NaN   \n",
       "4                  N        N      NaN       NaN         NaN   \n",
       "\n",
       "   LAST_ANN_PREM_GROSS POL_STATUS  i   Police  \n",
       "0               274.81     Lapsed  1  P000001  \n",
       "1               308.83       Live  2  P000002  \n",
       "2                52.65       Live  3  P000003  \n",
       "3                54.23       Live  4  P000004  \n",
       "4               244.58       Live  5  P000005  "
      ]
     },
     "execution_count": 7,
     "metadata": {},
     "output_type": "execute_result"
    }
   ],
   "source": [
    "df.head()"
   ]
  },
  {
   "cell_type": "markdown",
   "metadata": {},
   "source": [
    "### Missing values"
   ]
  },
  {
   "cell_type": "code",
   "execution_count": 17,
   "metadata": {},
   "outputs": [
    {
     "data": {
      "text/plain": [
       "QUOTE_DATE                109877\n",
       "COVER_START                    0\n",
       "CLAIM3YEARS                    0\n",
       "P1_EMP_STATUS                  0\n",
       "P1_PT_EMP_STATUS          187239\n",
       "BUS_USE                        0\n",
       "CLERICAL                  186077\n",
       "AD_BUILDINGS                   0\n",
       "RISK_RATED_AREA_B          48145\n",
       "SUM_INSURED_BUILDINGS          0\n",
       "NCD_GRANTED_YEARS_B            0\n",
       "AD_CONTENTS                    0\n",
       "RISK_RATED_AREA_C           8731\n",
       "SUM_INSURED_CONTENTS           0\n",
       "NCD_GRANTED_YEARS_C            0\n",
       "CONTENTS_COVER                 0\n",
       "BUILDINGS_COVER                0\n",
       "SPEC_SUM_INSURED               0\n",
       "SPEC_ITEM_PREM                 0\n",
       "UNSPEC_HRP_PREM                0\n",
       "P1_DOB                         0\n",
       "P1_MAR_STATUS                  0\n",
       "P1_POLICY_REFUSED              0\n",
       "P1_SEX                         0\n",
       "APPR_ALARM                     0\n",
       "APPR_LOCKS                     0\n",
       "BEDROOMS                       0\n",
       "ROOF_CONSTRUCTION              0\n",
       "WALL_CONSTRUCTION              0\n",
       "FLOODING                       0\n",
       "LISTED                         0\n",
       "MAX_DAYS_UNOCC                 0\n",
       "NEIGH_WATCH                    0\n",
       "OCC_STATUS                     0\n",
       "OWNERSHIP_TYPE                 0\n",
       "PAYING_GUESTS                  0\n",
       "PROP_TYPE                      0\n",
       "SAFE_INSTALLED                 0\n",
       "SEC_DISC_REQ                   0\n",
       "SUBSIDENCE                     0\n",
       "YEARBUILT                      0\n",
       "CAMPAIGN_DESC             189021\n",
       "PAYMENT_METHOD                 0\n",
       "PAYMENT_FREQUENCY         108467\n",
       "LEGAL_ADDON_PRE_REN            0\n",
       "LEGAL_ADDON_POST_REN           0\n",
       "HOME_EM_ADDON_PRE_REN          0\n",
       "HOME_EM_ADDON_POST_REN         0\n",
       "GARDEN_ADDON_PRE_REN           0\n",
       "GARDEN_ADDON_POST_REN          0\n",
       "KEYCARE_ADDON_PRE_REN          0\n",
       "KEYCARE_ADDON_POST_REN         0\n",
       "HP1_ADDON_PRE_REN              0\n",
       "HP1_ADDON_POST_REN             0\n",
       "HP2_ADDON_PRE_REN              0\n",
       "HP2_ADDON_POST_REN             0\n",
       "HP3_ADDON_PRE_REN              0\n",
       "HP3_ADDON_POST_REN             0\n",
       "MTA_FLAG                       0\n",
       "MTA_FAP                   133641\n",
       "MTA_APRP                  133641\n",
       "MTA_DATE                  162591\n",
       "LAST_ANN_PREM_GROSS            0\n",
       "POL_STATUS                     0\n",
       "i                              0\n",
       "Police                         0\n",
       "dtype: int64"
      ]
     },
     "execution_count": 17,
     "metadata": {},
     "output_type": "execute_result"
    }
   ],
   "source": [
    "df.isnull().sum()"
   ]
  },
  {
   "cell_type": "code",
   "execution_count": 13,
   "metadata": {},
   "outputs": [],
   "source": [
    "df = df[df[\"POL_STATUS\"].notnull()]"
   ]
  },
  {
   "cell_type": "code",
   "execution_count": 14,
   "metadata": {},
   "outputs": [
    {
     "data": {
      "text/plain": [
       "(189021, 66)"
      ]
     },
     "execution_count": 14,
     "metadata": {},
     "output_type": "execute_result"
    }
   ],
   "source": [
    "df.shape"
   ]
  },
  {
   "cell_type": "code",
   "execution_count": 18,
   "metadata": {},
   "outputs": [
    {
     "data": {
      "text/plain": [
       "QUOTE_DATE                0.581295\n",
       "COVER_START               0.000000\n",
       "CLAIM3YEARS               0.000000\n",
       "P1_EMP_STATUS             0.000000\n",
       "P1_PT_EMP_STATUS          0.990572\n",
       "BUS_USE                   0.000000\n",
       "CLERICAL                  0.984425\n",
       "AD_BUILDINGS              0.000000\n",
       "RISK_RATED_AREA_B         0.254707\n",
       "SUM_INSURED_BUILDINGS     0.000000\n",
       "NCD_GRANTED_YEARS_B       0.000000\n",
       "AD_CONTENTS               0.000000\n",
       "RISK_RATED_AREA_C         0.046191\n",
       "SUM_INSURED_CONTENTS      0.000000\n",
       "NCD_GRANTED_YEARS_C       0.000000\n",
       "CONTENTS_COVER            0.000000\n",
       "BUILDINGS_COVER           0.000000\n",
       "SPEC_SUM_INSURED          0.000000\n",
       "SPEC_ITEM_PREM            0.000000\n",
       "UNSPEC_HRP_PREM           0.000000\n",
       "P1_DOB                    0.000000\n",
       "P1_MAR_STATUS             0.000000\n",
       "P1_POLICY_REFUSED         0.000000\n",
       "P1_SEX                    0.000000\n",
       "APPR_ALARM                0.000000\n",
       "APPR_LOCKS                0.000000\n",
       "BEDROOMS                  0.000000\n",
       "ROOF_CONSTRUCTION         0.000000\n",
       "WALL_CONSTRUCTION         0.000000\n",
       "FLOODING                  0.000000\n",
       "LISTED                    0.000000\n",
       "MAX_DAYS_UNOCC            0.000000\n",
       "NEIGH_WATCH               0.000000\n",
       "OCC_STATUS                0.000000\n",
       "OWNERSHIP_TYPE            0.000000\n",
       "PAYING_GUESTS             0.000000\n",
       "PROP_TYPE                 0.000000\n",
       "SAFE_INSTALLED            0.000000\n",
       "SEC_DISC_REQ              0.000000\n",
       "SUBSIDENCE                0.000000\n",
       "YEARBUILT                 0.000000\n",
       "CAMPAIGN_DESC             1.000000\n",
       "PAYMENT_METHOD            0.000000\n",
       "PAYMENT_FREQUENCY         0.573836\n",
       "LEGAL_ADDON_PRE_REN       0.000000\n",
       "LEGAL_ADDON_POST_REN      0.000000\n",
       "HOME_EM_ADDON_PRE_REN     0.000000\n",
       "HOME_EM_ADDON_POST_REN    0.000000\n",
       "GARDEN_ADDON_PRE_REN      0.000000\n",
       "GARDEN_ADDON_POST_REN     0.000000\n",
       "KEYCARE_ADDON_PRE_REN     0.000000\n",
       "KEYCARE_ADDON_POST_REN    0.000000\n",
       "HP1_ADDON_PRE_REN         0.000000\n",
       "HP1_ADDON_POST_REN        0.000000\n",
       "HP2_ADDON_PRE_REN         0.000000\n",
       "HP2_ADDON_POST_REN        0.000000\n",
       "HP3_ADDON_PRE_REN         0.000000\n",
       "HP3_ADDON_POST_REN        0.000000\n",
       "MTA_FLAG                  0.000000\n",
       "MTA_FAP                   0.707017\n",
       "MTA_APRP                  0.707017\n",
       "MTA_DATE                  0.860174\n",
       "LAST_ANN_PREM_GROSS       0.000000\n",
       "POL_STATUS                0.000000\n",
       "i                         0.000000\n",
       "Police                    0.000000\n",
       "dtype: float64"
      ]
     },
     "execution_count": 18,
     "metadata": {},
     "output_type": "execute_result"
    }
   ],
   "source": [
    "df.isnull().sum()/len(df)"
   ]
  },
  {
   "cell_type": "markdown",
   "metadata": {},
   "source": [
    "### Duplicates\n",
    "No duplicated rows."
   ]
  },
  {
   "cell_type": "code",
   "execution_count": 21,
   "metadata": {},
   "outputs": [
    {
     "name": "stdout",
     "output_type": "stream",
     "text": [
      "Number of duplicated rows is 0\n"
     ]
    }
   ],
   "source": [
    "print(\"Number of duplicated rows is \" +\n",
    "      str(df.duplicated().sum()))"
   ]
  },
  {
   "cell_type": "markdown",
   "metadata": {},
   "source": [
    "## Target variable\n",
    "There are 4 classes in the target variable. We can exclude \"Unknown\" status. Although both of lapse and cancel mean not continueing with the policy, I think their characteristics are a bit different. For example, if a homeowner found a better policy, then they might want to switch to that policy. So here, I will create a new target variable called \"lapse\" that merely checking if the policy was lapsed or not. After creating this target variable, the lapse class is 27.8% of the data, which is a bit more than my expectation. I thought it might be severely imbalanced but seems like there are more cases of lapse. In next section I will investigate their characteristics."
   ]
  },
  {
   "cell_type": "code",
   "execution_count": 22,
   "metadata": {},
   "outputs": [
    {
     "data": {
      "image/png": "[encoded data removed]",
      "text/plain": [
       "<Figure size 432x288 with 1 Axes>"
      ]
     },
     "metadata": {
      "needs_background": "light"
     },
     "output_type": "display_data"
    }
   ],
   "source": [
    "plt.hist(df[\"POL_STATUS\"])\n",
    "plt.title(\"Counts of the target classes\")\n",
    "plt.show()"
   ]
  },
  {
   "cell_type": "code",
   "execution_count": 34,
   "metadata": {},
   "outputs": [],
   "source": [
    "df = df[df[\"POL_STATUS\"] != 'Unknown']\n",
    "df[\"lapse\"] = np.where(df[\"POL_STATUS\"] == \"Lapsed\", 1, 0)"
   ]
  },
  {
   "cell_type": "code",
   "execution_count": 35,
   "metadata": {},
   "outputs": [
    {
     "name": "stdout",
     "output_type": "stream",
     "text": [
      "The lapse class is 27.8% of the data\n"
     ]
    }
   ],
   "source": [
    "print(\"The lapse class is \" +\n",
    "      str(round(df[\"lapse\"].sum()/len(df) * 100, 2)) +\n",
    "      \"% of the data\")"
   ]
  },
  {
   "cell_type": "markdown",
   "metadata": {},
   "source": [
    "## Feature analysis\n",
    "- Homeowner-related features\n",
    "- Home-related features\n",
    "- Historical behaviour features"
   ]
  },
  {
   "cell_type": "markdown",
   "metadata": {},
   "source": [
    "### Homeowner-related features\n",
    "#### Client's professional status\n",
    "According to the data provider's [notebook](#https://www.kaggle.com/ycanario/home-insurance-in-r#Exploratory-Data-Analysis), those classes in this column represents, R = Retired, E = Employed, N = Not Available, H = House person, S = Student, U = Unemployed. There are some unknown classes but those unknown classes appeared less frequent. There are some statistically significant difference in means in some classes but from the box plot, it seems the likelihoods of be going to lapse can take almost any value in the classes where have relatively more samples. Yet, probably a good idea that create the dummy variables and put in the model."
   ]
  },
  {
   "cell_type": "code",
   "execution_count": 41,
   "metadata": {},
   "outputs": [
    {
     "data": {
      "text/plain": [
       "R    146609\n",
       "E     36395\n",
       "S      3064\n",
       "H      1069\n",
       "U       921\n",
       "N       754\n",
       "V        68\n",
       "A        52\n",
       "F        29\n",
       "I        28\n",
       "C        16\n",
       "Name: P1_EMP_STATUS, dtype: int64"
      ]
     },
     "execution_count": 41,
     "metadata": {},
     "output_type": "execute_result"
    }
   ],
   "source": [
    "df[\"P1_EMP_STATUS\"].value_counts()"
   ]
  },
  {
   "cell_type": "code",
   "execution_count": 44,
   "metadata": {},
   "outputs": [
    {
     "data": {
      "text/html": [
       "<div>\n",
       "<style scoped>\n",
       "    .dataframe tbody tr th:only-of-type {\n",
       "        vertical-align: middle;\n",
       "    }\n",
       "\n",
       "    .dataframe tbody tr th {\n",
       "        vertical-align: top;\n",
       "    }\n",
       "\n",
       "    .dataframe thead tr th {\n",
       "        text-align: left;\n",
       "    }\n",
       "</style>\n",
       "<table border=\"1\" class=\"dataframe\">\n",
       "  <thead>\n",
       "    <tr>\n",
       "      <th></th>\n",
       "      <th>P1_EMP_STATUS</th>\n",
       "      <th colspan=\"2\" halign=\"left\">lapse</th>\n",
       "    </tr>\n",
       "    <tr>\n",
       "      <th></th>\n",
       "      <th></th>\n",
       "      <th>mean</th>\n",
       "      <th>count</th>\n",
       "    </tr>\n",
       "  </thead>\n",
       "  <tbody>\n",
       "    <tr>\n",
       "      <th>0</th>\n",
       "      <td>A</td>\n",
       "      <td>0.230769</td>\n",
       "      <td>52</td>\n",
       "    </tr>\n",
       "    <tr>\n",
       "      <th>1</th>\n",
       "      <td>C</td>\n",
       "      <td>0.125000</td>\n",
       "      <td>16</td>\n",
       "    </tr>\n",
       "    <tr>\n",
       "      <th>2</th>\n",
       "      <td>E</td>\n",
       "      <td>0.289518</td>\n",
       "      <td>36395</td>\n",
       "    </tr>\n",
       "    <tr>\n",
       "      <th>3</th>\n",
       "      <td>F</td>\n",
       "      <td>0.241379</td>\n",
       "      <td>29</td>\n",
       "    </tr>\n",
       "    <tr>\n",
       "      <th>4</th>\n",
       "      <td>H</td>\n",
       "      <td>0.331151</td>\n",
       "      <td>1069</td>\n",
       "    </tr>\n",
       "    <tr>\n",
       "      <th>5</th>\n",
       "      <td>I</td>\n",
       "      <td>0.500000</td>\n",
       "      <td>28</td>\n",
       "    </tr>\n",
       "    <tr>\n",
       "      <th>6</th>\n",
       "      <td>N</td>\n",
       "      <td>0.285146</td>\n",
       "      <td>754</td>\n",
       "    </tr>\n",
       "    <tr>\n",
       "      <th>7</th>\n",
       "      <td>R</td>\n",
       "      <td>0.272691</td>\n",
       "      <td>146609</td>\n",
       "    </tr>\n",
       "    <tr>\n",
       "      <th>8</th>\n",
       "      <td>S</td>\n",
       "      <td>0.365535</td>\n",
       "      <td>3064</td>\n",
       "    </tr>\n",
       "    <tr>\n",
       "      <th>9</th>\n",
       "      <td>U</td>\n",
       "      <td>0.293160</td>\n",
       "      <td>921</td>\n",
       "    </tr>\n",
       "    <tr>\n",
       "      <th>10</th>\n",
       "      <td>V</td>\n",
       "      <td>0.352941</td>\n",
       "      <td>68</td>\n",
       "    </tr>\n",
       "  </tbody>\n",
       "</table>\n",
       "</div>"
      ],
      "text/plain": [
       "   P1_EMP_STATUS     lapse        \n",
       "                      mean   count\n",
       "0              A  0.230769      52\n",
       "1              C  0.125000      16\n",
       "2              E  0.289518   36395\n",
       "3              F  0.241379      29\n",
       "4              H  0.331151    1069\n",
       "5              I  0.500000      28\n",
       "6              N  0.285146     754\n",
       "7              R  0.272691  146609\n",
       "8              S  0.365535    3064\n",
       "9              U  0.293160     921\n",
       "10             V  0.352941      68"
      ]
     },
     "execution_count": 44,
     "metadata": {},
     "output_type": "execute_result"
    }
   ],
   "source": [
    "# Likelihood of going to be lapsed\n",
    "df.groupby(\"P1_EMP_STATUS\", as_index = False).agg({\"lapse\":['mean', 'count']}) "
   ]
  },
  {
   "cell_type": "code",
   "execution_count": 55,
   "metadata": {},
   "outputs": [
    {
     "name": "stdout",
     "output_type": "stream",
     "text": [
      "R class has significantly different mean from rest of the classes\n",
      "E class has significantly different mean from rest of the classes\n",
      "S class has significantly different mean from rest of the classes\n",
      "N class's mean is not different from rest of the classes\n",
      "H class has significantly different mean from rest of the classes\n",
      "U class's mean is not different from rest of the classes\n",
      "A class's mean is not different from rest of the classes\n",
      "F class's mean is not different from rest of the classes\n",
      "I class has significantly different mean from rest of the classes\n",
      "V class's mean is not different from rest of the classes\n",
      "C class's mean is not different from rest of the classes\n"
     ]
    }
   ],
   "source": [
    "professional_status = df[\"P1_EMP_STATUS\"].unique()\n",
    "\n",
    "for status in professional_status:\n",
    "    if sp.ttest_ind(df[df[\"P1_EMP_STATUS\"] == status][\"lapse\"], df[df[\"P1_EMP_STATUS\"] != status][\"lapse\"])[1] < .05:\n",
    "        print(str(status) +\n",
    "              \" class has significantly different mean from rest of the classes\")\n",
    "    else:\n",
    "        print(str(status) +\n",
    "              \" class's mean is not different from rest of the classes\")"
   ]
  },
  {
   "cell_type": "code",
   "execution_count": 57,
   "metadata": {},
   "outputs": [
    {
     "data": {
      "image/png": "[encoded data removed]",
      "text/plain": [
       "<Figure size 432x288 with 1 Axes>"
      ]
     },
     "metadata": {
      "needs_background": "light"
     },
     "output_type": "display_data"
    }
   ],
   "source": [
    "sns.boxplot(x = \"P1_EMP_STATUS\", y = \"lapse\", data = df)\n",
    "plt.title(\"Box plot of professional status\")\n",
    "plt.xlabel(\"Professional status\")\n",
    "plt.ylabel(\"Likelihood of going to be lapsed\")\n",
    "plt.show()"
   ]
  },
  {
   "cell_type": "markdown",
   "metadata": {},
   "source": [
    "#### Age\n",
    "Here I calculated the customers' age at 2013-01-01. There are some people who are older than 110 years old, which looks a bit suspicious to me, but there are only 2 cases. I think they won't affect much but I will remove those cases just in case. \n",
    "\n",
    "I conducted a t-test to see if there's a statistical significant difference in average age. Average age in lapsed cohort is 71.72 years old and for non-lapsed cohort is 73.07 years old. The result shows that the lapsed cohort has statistically significant difference in average age"
   ]
  },
  {
   "cell_type": "code",
   "execution_count": 62,
   "metadata": {},
   "outputs": [],
   "source": [
    "df[\"age\"] = (datetime.strptime(\"2013-01-01\", \"%Y-%m-%d\") - pd.to_datetime(df[\"P1_DOB\"])).dt.days // 365"
   ]
  },
  {
   "cell_type": "code",
   "execution_count": 66,
   "metadata": {},
   "outputs": [
    {
     "data": {
      "text/plain": [
       "count    189005.000000\n",
       "mean         72.693860\n",
       "std          10.918894\n",
       "min          21.000000\n",
       "25%          65.000000\n",
       "50%          73.000000\n",
       "75%          81.000000\n",
       "max         123.000000\n",
       "Name: age, dtype: float64"
      ]
     },
     "execution_count": 66,
     "metadata": {},
     "output_type": "execute_result"
    }
   ],
   "source": [
    "df[\"age\"].describe()"
   ]
  },
  {
   "cell_type": "code",
   "execution_count": 68,
   "metadata": {},
   "outputs": [
    {
     "data": {
      "text/plain": [
       "(2, 68)"
      ]
     },
     "execution_count": 68,
     "metadata": {},
     "output_type": "execute_result"
    }
   ],
   "source": [
    "df[df[\"age\"] > 110].shape"
   ]
  },
  {
   "cell_type": "code",
   "execution_count": 71,
   "metadata": {},
   "outputs": [],
   "source": [
    "df = df[df[\"age\"] <= 110]"
   ]
  },
  {
   "cell_type": "code",
   "execution_count": 72,
   "metadata": {},
   "outputs": [
    {
     "data": {
      "image/png": "[encoded data removed]",
      "text/plain": [
       "<Figure size 432x288 with 1 Axes>"
      ]
     },
     "metadata": {
      "needs_background": "light"
     },
     "output_type": "display_data"
    }
   ],
   "source": [
    "plt.hist(df[\"age\"])\n",
    "plt.title(\"Histogram of age distribution\")\n",
    "plt.xlabel(\"Age\")\n",
    "plt.ylabel(\"Count\")\n",
    "plt.show()"
   ]
  },
  {
   "cell_type": "code",
   "execution_count": 70,
   "metadata": {},
   "outputs": [
    {
     "data": {
      "image/png": "[encoded data removed]",
      "text/plain": [
       "<Figure size 432x288 with 1 Axes>"
      ]
     },
     "metadata": {
      "needs_background": "light"
     },
     "output_type": "display_data"
    }
   ],
   "source": [
    "sns.boxplot(x = \"lapse\", y = \"age\", data = df)\n",
    "plt.title(\"Box plot of lapse against age\")\n",
    "plt.xlabel(\"Lapse status\")\n",
    "plt.ylabel(\"Age\")\n",
    "plt.show()"
   ]
  },
  {
   "cell_type": "code",
   "execution_count": 69,
   "metadata": {},
   "outputs": [
    {
     "data": {
      "image/png": "[encoded data removed]",
      "text/plain": [
       "<Figure size 432x288 with 1 Axes>"
      ]
     },
     "metadata": {
      "needs_background": "light"
     },
     "output_type": "display_data"
    }
   ],
   "source": [
    "sns.regplot(x = \"age\", y = \"lapse\", data = df[df[\"age\"] < 110])\n",
    "plt.title(\"Linear plot of lapse against age\")\n",
    "plt.xlabel(\"Age\")\n",
    "plt.ylabel(\"Likelihood of going to be lapsed\")\n",
    "plt.show()"
   ]
  },
  {
   "cell_type": "code",
   "execution_count": 77,
   "metadata": {},
   "outputs": [
    {
     "name": "stdout",
     "output_type": "stream",
     "text": [
      "Average age in lapsed cohort is 71.72 years old\n",
      "Average age in non-lapsed cohort is 73.07 years old\n"
     ]
    }
   ],
   "source": [
    "print(\"Average age in lapsed cohort is \" +\n",
    "      str(round(df[df[\"lapse\"] == 1][\"age\"].mean(),2)) +\n",
    "     \" years old\")\n",
    "print(\"Average age in non-lapsed cohort is \" +\n",
    "      str(round(df[df[\"lapse\"] == 0][\"age\"].mean(),2)) +\n",
    "      \" years old\")"
   ]
  },
  {
   "cell_type": "code",
   "execution_count": 73,
   "metadata": {},
   "outputs": [
    {
     "name": "stdout",
     "output_type": "stream",
     "text": [
      "Lapsed cohort has statistically significant difference in average age\n"
     ]
    }
   ],
   "source": [
    "if sp.ttest_ind(df[df[\"lapse\"] == 1][\"age\"], df[df[\"lapse\"] == 0][\"age\"])[1] < .05:\n",
    "    print(\"Lapsed cohort has statistically significant difference in average age\")\n",
    "else:\n",
    "    print(\"Lapsed cohort does not have statistically significant difference in average age\")"
   ]
  },
  {
   "cell_type": "markdown",
   "metadata": {},
   "source": [
    "### Marital status\n",
    "In this column, there are 10 marital status classes. Majority (appeared more than 10,000 times) classes are \"Married\", \"Domestic partner\", \"Other\", \"Widow\" and \"Single\". The interesting finding here is __the likelihood of going to be lapsed for customers who have domestic partner have particularly small. Probably those customers are more responsibles \n",
    "than other customers.__\n",
    "\n",
    "The result of t-tests are significant except for class \"N\" and \"B\"."
   ]
  },
  {
   "cell_type": "code",
   "execution_count": 79,
   "metadata": {},
   "outputs": [
    {
     "data": {
      "text/plain": [
       "M    66472\n",
       "P    44145\n",
       "O    33057\n",
       "W    25507\n",
       "S    10269\n",
       "D     7880\n",
       "A     1070\n",
       "C      544\n",
       "B       32\n",
       "N       27\n",
       "Name: P1_MAR_STATUS, dtype: int64"
      ]
     },
     "execution_count": 79,
     "metadata": {},
     "output_type": "execute_result"
    }
   ],
   "source": [
    "df[\"P1_MAR_STATUS\"].value_counts()"
   ]
  },
  {
   "cell_type": "code",
   "execution_count": 80,
   "metadata": {},
   "outputs": [
    {
     "data": {
      "text/html": [
       "<div>\n",
       "<style scoped>\n",
       "    .dataframe tbody tr th:only-of-type {\n",
       "        vertical-align: middle;\n",
       "    }\n",
       "\n",
       "    .dataframe tbody tr th {\n",
       "        vertical-align: top;\n",
       "    }\n",
       "\n",
       "    .dataframe thead tr th {\n",
       "        text-align: left;\n",
       "    }\n",
       "</style>\n",
       "<table border=\"1\" class=\"dataframe\">\n",
       "  <thead>\n",
       "    <tr>\n",
       "      <th></th>\n",
       "      <th>P1_MAR_STATUS</th>\n",
       "      <th colspan=\"2\" halign=\"left\">lapse</th>\n",
       "    </tr>\n",
       "    <tr>\n",
       "      <th></th>\n",
       "      <th></th>\n",
       "      <th>mean</th>\n",
       "      <th>count</th>\n",
       "    </tr>\n",
       "  </thead>\n",
       "  <tbody>\n",
       "    <tr>\n",
       "      <th>0</th>\n",
       "      <td>A</td>\n",
       "      <td>0.312150</td>\n",
       "      <td>1070</td>\n",
       "    </tr>\n",
       "    <tr>\n",
       "      <th>1</th>\n",
       "      <td>B</td>\n",
       "      <td>0.406250</td>\n",
       "      <td>32</td>\n",
       "    </tr>\n",
       "    <tr>\n",
       "      <th>2</th>\n",
       "      <td>C</td>\n",
       "      <td>0.349265</td>\n",
       "      <td>544</td>\n",
       "    </tr>\n",
       "    <tr>\n",
       "      <th>3</th>\n",
       "      <td>D</td>\n",
       "      <td>0.326777</td>\n",
       "      <td>7880</td>\n",
       "    </tr>\n",
       "    <tr>\n",
       "      <th>4</th>\n",
       "      <td>M</td>\n",
       "      <td>0.353111</td>\n",
       "      <td>66472</td>\n",
       "    </tr>\n",
       "    <tr>\n",
       "      <th>5</th>\n",
       "      <td>N</td>\n",
       "      <td>0.407407</td>\n",
       "      <td>27</td>\n",
       "    </tr>\n",
       "    <tr>\n",
       "      <th>6</th>\n",
       "      <td>O</td>\n",
       "      <td>0.286021</td>\n",
       "      <td>33057</td>\n",
       "    </tr>\n",
       "    <tr>\n",
       "      <th>7</th>\n",
       "      <td>P</td>\n",
       "      <td>0.136890</td>\n",
       "      <td>44145</td>\n",
       "    </tr>\n",
       "    <tr>\n",
       "      <th>8</th>\n",
       "      <td>S</td>\n",
       "      <td>0.302269</td>\n",
       "      <td>10269</td>\n",
       "    </tr>\n",
       "    <tr>\n",
       "      <th>9</th>\n",
       "      <td>W</td>\n",
       "      <td>0.287607</td>\n",
       "      <td>25507</td>\n",
       "    </tr>\n",
       "  </tbody>\n",
       "</table>\n",
       "</div>"
      ],
      "text/plain": [
       "  P1_MAR_STATUS     lapse       \n",
       "                     mean  count\n",
       "0             A  0.312150   1070\n",
       "1             B  0.406250     32\n",
       "2             C  0.349265    544\n",
       "3             D  0.326777   7880\n",
       "4             M  0.353111  66472\n",
       "5             N  0.407407     27\n",
       "6             O  0.286021  33057\n",
       "7             P  0.136890  44145\n",
       "8             S  0.302269  10269\n",
       "9             W  0.287607  25507"
      ]
     },
     "execution_count": 80,
     "metadata": {},
     "output_type": "execute_result"
    }
   ],
   "source": [
    "# Likelihood of going to be lapsed\n",
    "df.groupby(\"P1_MAR_STATUS\", as_index = False).agg({\"lapse\":['mean', 'count']}) "
   ]
  },
  {
   "cell_type": "code",
   "execution_count": 81,
   "metadata": {},
   "outputs": [
    {
     "name": "stdout",
     "output_type": "stream",
     "text": [
      "O class has significantly different mean from rest of the classes\n",
      "M class has significantly different mean from rest of the classes\n",
      "S class has significantly different mean from rest of the classes\n",
      "W class has significantly different mean from rest of the classes\n",
      "D class has significantly different mean from rest of the classes\n",
      "P class has significantly different mean from rest of the classes\n",
      "A class has significantly different mean from rest of the classes\n",
      "C class has significantly different mean from rest of the classes\n",
      "B class's mean is not different from rest of the classes\n",
      "N class's mean is not different from rest of the classes\n"
     ]
    }
   ],
   "source": [
    "marital_status = df[\"P1_MAR_STATUS\"].unique()\n",
    "\n",
    "for status in marital_status:\n",
    "    if sp.ttest_ind(df[df[\"P1_MAR_STATUS\"] == status][\"lapse\"], df[df[\"P1_MAR_STATUS\"] != status][\"lapse\"])[1] < .05:\n",
    "        print(str(status) +\n",
    "              \" class has significantly different mean from rest of the classes\")\n",
    "    else:\n",
    "        print(str(status) +\n",
    "              \" class's mean is not different from rest of the classes\")"
   ]
  },
  {
   "cell_type": "code",
   "execution_count": 82,
   "metadata": {},
   "outputs": [
    {
     "data": {
      "image/png": "[encoded data removed]",
      "text/plain": [
       "<Figure size 432x288 with 1 Axes>"
      ]
     },
     "metadata": {
      "needs_background": "light"
     },
     "output_type": "display_data"
    }
   ],
   "source": [
    "sns.boxplot(x = \"P1_MAR_STATUS\", y = \"lapse\", data = df)\n",
    "plt.title(\"Box plot of marital status\")\n",
    "plt.xlabel(\"Marital status\")\n",
    "plt.ylabel(\"Likelihood of going to be lapsed\")\n",
    "plt.show()"
   ]
  },
  {
   "cell_type": "markdown",
   "metadata": {},
   "source": [
    "### Policy Emission Denial Indicator\n",
    "Most of the customers didn't refuse this. Although the average likelihood of going to be lapsed is much higher for diner, the difference is not statistically significant."
   ]
  },
  {
   "cell_type": "code",
   "execution_count": 84,
   "metadata": {},
   "outputs": [
    {
     "data": {
      "text/plain": [
       "N    188940\n",
       "Y        63\n",
       "Name: P1_POLICY_REFUSED, dtype: int64"
      ]
     },
     "execution_count": 84,
     "metadata": {},
     "output_type": "execute_result"
    }
   ],
   "source": [
    "df[\"P1_POLICY_REFUSED\"].value_counts()"
   ]
  },
  {
   "cell_type": "code",
   "execution_count": 88,
   "metadata": {},
   "outputs": [
    {
     "name": "stdout",
     "output_type": "stream",
     "text": [
      "Average likelihood of going to be lapsed for emission denier is 0.63\n",
      "Average likelihood of going to be lapsed for emission accepter is 0.28\n"
     ]
    }
   ],
   "source": [
    "print(\"Average likelihood of going to be lapsed for emission denier is \" +\n",
    "      str(round(df[df[\"P1_POLICY_REFUSED\"] == \"Y\"][\"lapse\"].mean(),2))\n",
    "     )\n",
    "print(\"Average likelihood of going to be lapsed for emission accepter is \" +\n",
    "      str(round(df[df[\"P1_POLICY_REFUSED\"] == \"N\"][\"lapse\"].mean(),2))\n",
    "     )"
   ]
  },
  {
   "cell_type": "code",
   "execution_count": 94,
   "metadata": {},
   "outputs": [
    {
     "name": "stdout",
     "output_type": "stream",
     "text": [
      "Emission denier does not have statistically significant difference in average likelihood of going to be lapsed\n"
     ]
    }
   ],
   "source": [
    "if sp.ttest_ind(df[df[\"P1_POLICY_REFUSED\"] == \"Y\"][\"lapse\"], df[df[\"P1_POLICY_REFUSED\"] == \"Y\"][\"lapse\"])[1] < .05:\n",
    "    print(\"Emission denier has statistically significant difference in average likelihood of going be to lapsed\")\n",
    "else:\n",
    "    print(\"Emission denier does not have statistically significant difference in average likelihood of going to be lapsed\")"
   ]
  },
  {
   "cell_type": "markdown",
   "metadata": {},
   "source": [
    "### Gender\n",
    "Male has statistically significantly higher average likelihood of going to be lapsed."
   ]
  },
  {
   "cell_type": "code",
   "execution_count": 90,
   "metadata": {},
   "outputs": [
    {
     "data": {
      "text/plain": [
       "M    102996\n",
       "F     85919\n",
       "N        88\n",
       "Name: P1_SEX, dtype: int64"
      ]
     },
     "execution_count": 90,
     "metadata": {},
     "output_type": "execute_result"
    }
   ],
   "source": [
    "df[\"P1_SEX\"].value_counts()"
   ]
  },
  {
   "cell_type": "code",
   "execution_count": 92,
   "metadata": {},
   "outputs": [
    {
     "name": "stdout",
     "output_type": "stream",
     "text": [
      "Average likelihood of going to be lapsed for male is 0.3\n",
      "Average likelihood of going to be lapsed for female is 0.25\n"
     ]
    }
   ],
   "source": [
    "print(\"Average likelihood of going to be lapsed for male is \" +\n",
    "      str(round(df[df[\"P1_SEX\"] == \"M\"][\"lapse\"].mean(),2))\n",
    "     )\n",
    "print(\"Average likelihood of going to be lapsed for female is \" +\n",
    "      str(round(df[df[\"P1_SEX\"] == \"F\"][\"lapse\"].mean(),2))\n",
    "     )"
   ]
  },
  {
   "cell_type": "code",
   "execution_count": 98,
   "metadata": {},
   "outputs": [
    {
     "name": "stdout",
     "output_type": "stream",
     "text": [
      "Male has statistically significant difference in average likelihood of going be to lapsed\n"
     ]
    }
   ],
   "source": [
    "if sp.ttest_ind(df[df[\"P1_SEX\"] == \"M\"][\"lapse\"], df[df[\"P1_SEX\"] == \"F\"][\"lapse\"])[1] < .05:\n",
    "    print(\"Male has statistically significant difference in average likelihood of going be to lapsed\")\n",
    "else:\n",
    "    print(\"Male does not have statistically significant difference in average likelihood of going to be lapsed\")"
   ]
  },
  {
   "cell_type": "markdown",
   "metadata": {},
   "source": [
    "## Home-related features\n",
    "### Claim history\n",
    "Past 3 years' insurance claim history has statistically significantly lower likelihood of going to be lapsed, which makes sense."
   ]
  },
  {
   "cell_type": "code",
   "execution_count": 96,
   "metadata": {},
   "outputs": [
    {
     "data": {
      "text/plain": [
       "N    167168\n",
       "Y     21835\n",
       "Name: CLAIM3YEARS, dtype: int64"
      ]
     },
     "execution_count": 96,
     "metadata": {},
     "output_type": "execute_result"
    }
   ],
   "source": [
    "df[\"CLAIM3YEARS\"].value_counts()"
   ]
  },
  {
   "cell_type": "code",
   "execution_count": 97,
   "metadata": {},
   "outputs": [
    {
     "name": "stdout",
     "output_type": "stream",
     "text": [
      "Average likelihood of going to be lapsed with previous claim is 0.26\n",
      "Average likelihood of going to be lapsed without previous claim is 0.28\n"
     ]
    }
   ],
   "source": [
    "print(\"Average likelihood of going to be lapsed with previous claim is \" +\n",
    "      str(round(df[df[\"CLAIM3YEARS\"] == \"Y\"][\"lapse\"].mean(),2))\n",
    "     )\n",
    "print(\"Average likelihood of going to be lapsed without previous claim is \" +\n",
    "      str(round(df[df[\"CLAIM3YEARS\"] == \"N\"][\"lapse\"].mean(),2))\n",
    "     )"
   ]
  },
  {
   "cell_type": "code",
   "execution_count": 99,
   "metadata": {},
   "outputs": [
    {
     "name": "stdout",
     "output_type": "stream",
     "text": [
      "Claim history has statistically significant difference in average likelihood of going be to lapsed\n"
     ]
    }
   ],
   "source": [
    "if sp.ttest_ind(df[df[\"CLAIM3YEARS\"] == \"Y\"][\"lapse\"], df[df[\"CLAIM3YEARS\"] == \"N\"][\"lapse\"])[1] < .05:\n",
    "    print(\"Claim history has statistically significant difference in average likelihood of going be to lapsed\")\n",
    "else:\n",
    "    print(\"Claim history does not have statistically significant difference in average likelihood of going to be lapsed\")"
   ]
  },
  {
   "cell_type": "markdown",
   "metadata": {},
   "source": [
    "### Usage of the house\n",
    "Business usage has statistically significant difference in average likelihood of going be to lapsed."
   ]
  },
  {
   "cell_type": "code",
   "execution_count": 100,
   "metadata": {},
   "outputs": [
    {
     "data": {
      "text/plain": [
       "N    186059\n",
       "Y      2944\n",
       "Name: BUS_USE, dtype: int64"
      ]
     },
     "execution_count": 100,
     "metadata": {},
     "output_type": "execute_result"
    }
   ],
   "source": [
    "df[\"BUS_USE\"].value_counts()"
   ]
  },
  {
   "cell_type": "code",
   "execution_count": 103,
   "metadata": {},
   "outputs": [
    {
     "name": "stdout",
     "output_type": "stream",
     "text": [
      "Average likelihood of going to be lapsed for business usage is 0.38\n",
      "Average likelihood of going to be lapsed not for business usage is 0.28\n"
     ]
    }
   ],
   "source": [
    "print(\"Average likelihood of going to be lapsed for business usage is \" +\n",
    "      str(round(df[df[\"BUS_USE\"] == \"Y\"][\"lapse\"].mean(),2))\n",
    "     )\n",
    "print(\"Average likelihood of going to be lapsed not for business usage is \" +\n",
    "      str(round(df[df[\"BUS_USE\"] == \"N\"][\"lapse\"].mean(),2))\n",
    "     )"
   ]
  },
  {
   "cell_type": "code",
   "execution_count": 104,
   "metadata": {},
   "outputs": [
    {
     "name": "stdout",
     "output_type": "stream",
     "text": [
      "Business usage has statistically significant difference in average likelihood of going be to lapsed\n"
     ]
    }
   ],
   "source": [
    "if sp.ttest_ind(df[df[\"BUS_USE\"] == \"Y\"][\"lapse\"], df[df[\"BUS_USE\"] == \"N\"][\"lapse\"])[1] < .05:\n",
    "    print(\"Business usage has statistically significant difference in average likelihood of going be to lapsed\")\n",
    "else:\n",
    "    print(\"Business usage does not have statistically significant difference in average likelihood of going to be lapsed\")"
   ]
  },
  {
   "cell_type": "markdown",
   "metadata": {},
   "source": [
    "### Building coverage\n",
    "Building coverage has statistically significant difference in average likelihood of going be to lapsed"
   ]
  },
  {
   "cell_type": "code",
   "execution_count": 105,
   "metadata": {},
   "outputs": [
    {
     "data": {
      "text/plain": [
       "Y    147246\n",
       "N     41757\n",
       "Name: AD_BUILDINGS, dtype: int64"
      ]
     },
     "execution_count": 105,
     "metadata": {},
     "output_type": "execute_result"
    }
   ],
   "source": [
    "df[\"AD_BUILDINGS\"].value_counts()"
   ]
  },
  {
   "cell_type": "code",
   "execution_count": 107,
   "metadata": {},
   "outputs": [
    {
     "name": "stdout",
     "output_type": "stream",
     "text": [
      "Average likelihood of going to be lapsed for building coverage is 0.31\n",
      "Average likelihood of going to be lapsed for no building coverage is 0.17\n"
     ]
    }
   ],
   "source": [
    "print(\"Average likelihood of going to be lapsed for building coverage is \" +\n",
    "      str(round(df[df[\"AD_BUILDINGS\"] == \"Y\"][\"lapse\"].mean(),2))\n",
    "     )\n",
    "print(\"Average likelihood of going to be lapsed for no building coverage is \" +\n",
    "      str(round(df[df[\"AD_BUILDINGS\"] == \"N\"][\"lapse\"].mean(),2))\n",
    "     )"
   ]
  },
  {
   "cell_type": "code",
   "execution_count": 108,
   "metadata": {},
   "outputs": [
    {
     "name": "stdout",
     "output_type": "stream",
     "text": [
      "Building coverage has statistically significant difference in average likelihood of going be to lapsed\n"
     ]
    }
   ],
   "source": [
    "if sp.ttest_ind(df[df[\"AD_BUILDINGS\"] == \"Y\"][\"lapse\"], df[df[\"AD_BUILDINGS\"] == \"N\"][\"lapse\"])[1] < .05:\n",
    "    print(\"Building coverage has statistically significant difference in average likelihood of going be to lapsed\")\n",
    "else:\n",
    "    print(\"Building coverage does not have statistically significant difference in average likelihood of going to be lapsed\")"
   ]
  },
  {
   "cell_type": "markdown",
   "metadata": {},
   "source": [
    "### Geographical Classification of Risk\n",
    "25% of this values are missing. I'm not sure why those missing values are happened as it's not written in the documentation. As I don't know the reason of missing value, it is not the optimal idea, but I imputed the missing values with mean value. The mean difference of statistical significance still remained."
   ]
  },
  {
   "cell_type": "code",
   "execution_count": 113,
   "metadata": {},
   "outputs": [
    {
     "data": {
      "text/plain": [
       "0.25470495177325225"
      ]
     },
     "execution_count": 113,
     "metadata": {},
     "output_type": "execute_result"
    }
   ],
   "source": [
    "df[\"RISK_RATED_AREA_B\"].isnull().sum()/len(df)"
   ]
  },
  {
   "cell_type": "code",
   "execution_count": 112,
   "metadata": {},
   "outputs": [
    {
     "data": {
      "image/png": "[encoded data removed]",
      "text/plain": [
       "<Figure size 432x288 with 1 Axes>"
      ]
     },
     "metadata": {
      "needs_background": "light"
     },
     "output_type": "display_data"
    }
   ],
   "source": [
    "sns.boxplot(x = \"lapse\", y = \"RISK_RATED_AREA_B\", \n",
    "            data = df[df[\"RISK_RATED_AREA_B\"].notnull()])\n",
    "plt.title(\"Box plot of geographical risk\")\n",
    "plt.xlabel(\"Risk classification\")\n",
    "plt.ylabel(\"Likelihood of going to be lapsed\")\n",
    "plt.show()"
   ]
  },
  {
   "cell_type": "code",
   "execution_count": 115,
   "metadata": {},
   "outputs": [
    {
     "name": "stdout",
     "output_type": "stream",
     "text": [
      "Lapsed cohort has statistically significant difference in average geographical risk classification\n"
     ]
    }
   ],
   "source": [
    "if sp.ttest_ind(df[(df[\"lapse\"] == 1) & (df[\"RISK_RATED_AREA_B\"].notnull())][\"RISK_RATED_AREA_B\"], \n",
    "                df[(df[\"lapse\"] == 0) & (df[\"RISK_RATED_AREA_B\"].notnull())][\"RISK_RATED_AREA_B\"])[1] < .05:\n",
    "    print(\"Lapsed cohort has statistically significant difference in average geographical risk classification\")\n",
    "else:\n",
    "    print(\"Lapsed cohort does not have statistically significant difference in average geographical risk classification\")"
   ]
  },
  {
   "cell_type": "code",
   "execution_count": 123,
   "metadata": {},
   "outputs": [
    {
     "data": {
      "image/png": "[encoded data removed]",
      "text/plain": [
       "<Figure size 432x288 with 1 Axes>"
      ]
     },
     "metadata": {
      "needs_background": "light"
     },
     "output_type": "display_data"
    }
   ],
   "source": [
    "df[\"RISK_RATED_AREA_B_imputed\"] = df[\"RISK_RATED_AREA_B\"].fillna(df[\"RISK_RATED_AREA_B\"].mean())\n",
    "\n",
    "sns.boxplot(x = \"lapse\", y = \"RISK_RATED_AREA_B_imputed\", \n",
    "            data = df)\n",
    "plt.title(\"Box plot of geographical risk\")\n",
    "plt.xlabel(\"Risk classification\")\n",
    "plt.ylabel(\"Likelihood of going to be lapsed\")\n",
    "plt.show()"
   ]
  },
  {
   "cell_type": "code",
   "execution_count": 117,
   "metadata": {},
   "outputs": [
    {
     "name": "stdout",
     "output_type": "stream",
     "text": [
      "Lapsed cohort has statistically significant difference in average geographical risk classification\n"
     ]
    }
   ],
   "source": [
    "if sp.ttest_ind(df[df[\"lapse\"] == 1][\"RISK_RATED_AREA_B_imputed\"], \n",
    "                df[df[\"lapse\"] == 0][\"RISK_RATED_AREA_B_imputed\"])[1] < .05:\n",
    "    print(\"Lapsed cohort has statistically significant difference in average geographical risk classification\")\n",
    "else:\n",
    "    print(\"Lapsed cohort does not have statistically significant difference in average geographical risk classification\")"
   ]
  },
  {
   "cell_type": "code",
   "execution_count": 122,
   "metadata": {},
   "outputs": [
    {
     "data": {
      "text/plain": [
       "0.04619503394126019"
      ]
     },
     "execution_count": 122,
     "metadata": {},
     "output_type": "execute_result"
    }
   ],
   "source": [
    "df[\"RISK_RATED_AREA_C\"].isnull().sum()/len(df)"
   ]
  },
  {
   "cell_type": "code",
   "execution_count": 124,
   "metadata": {},
   "outputs": [
    {
     "data": {
      "image/png": "[encoded data removed]",
      "text/plain": [
       "<Figure size 432x288 with 1 Axes>"
      ]
     },
     "metadata": {
      "needs_background": "light"
     },
     "output_type": "display_data"
    }
   ],
   "source": [
    "df[\"RISK_RATED_AREA_C_imputed\"] = df[\"RISK_RATED_AREA_C\"].fillna(df[\"RISK_RATED_AREA_C\"].mean())\n",
    "\n",
    "sns.boxplot(x = \"lapse\", y = \"RISK_RATED_AREA_C_imputed\", \n",
    "            data = df)\n",
    "plt.title(\"Box plot of geographical risk\")\n",
    "plt.xlabel(\"Risk classification\")\n",
    "plt.ylabel(\"Likelihood of going to be lapsed\")\n",
    "plt.show()"
   ]
  },
  {
   "cell_type": "code",
   "execution_count": 125,
   "metadata": {},
   "outputs": [
    {
     "name": "stdout",
     "output_type": "stream",
     "text": [
      "Lapsed cohort has statistically significant difference in average geographical risk classification\n"
     ]
    }
   ],
   "source": [
    "if sp.ttest_ind(df[df[\"lapse\"] == 1][\"RISK_RATED_AREA_C_imputed\"], \n",
    "                df[df[\"lapse\"] == 0][\"RISK_RATED_AREA_C_imputed\"])[1] < .05:\n",
    "    print(\"Lapsed cohort has statistically significant difference in average geographical risk classification\")\n",
    "else:\n",
    "    print(\"Lapsed cohort does not have statistically significant difference in average geographical risk classification\")"
   ]
  },
  {
   "cell_type": "markdown",
   "metadata": {},
   "source": [
    "### Assured Sum\n",
    "#### Buildings\n",
    "There are only two unique values in this column. Their mean difference is statistically significant."
   ]
  },
  {
   "cell_type": "code",
   "execution_count": 119,
   "metadata": {},
   "outputs": [
    {
     "data": {
      "text/plain": [
       "1000000.0    147070\n",
       "0.0           41933\n",
       "Name: SUM_INSURED_BUILDINGS, dtype: int64"
      ]
     },
     "execution_count": 119,
     "metadata": {},
     "output_type": "execute_result"
    }
   ],
   "source": [
    "df[\"SUM_INSURED_BUILDINGS\"].value_counts()"
   ]
  },
  {
   "cell_type": "code",
   "execution_count": 128,
   "metadata": {},
   "outputs": [
    {
     "name": "stdout",
     "output_type": "stream",
     "text": [
      "Average likelihood of going to be lapsed for insured building is 0.31\n",
      "Average likelihood of going to be lapsed for not insured building is 0.18\n"
     ]
    }
   ],
   "source": [
    "print(\"Average likelihood of going to be lapsed for insured building is \" +\n",
    "      str(round(df[df[\"SUM_INSURED_BUILDINGS\"] > 0][\"lapse\"].mean(),2))\n",
    "     )\n",
    "print(\"Average likelihood of going to be lapsed for not insured building is \" +\n",
    "      str(round(df[df[\"SUM_INSURED_BUILDINGS\"] == 0][\"lapse\"].mean(),2))\n",
    "     )"
   ]
  },
  {
   "cell_type": "code",
   "execution_count": 129,
   "metadata": {},
   "outputs": [
    {
     "name": "stdout",
     "output_type": "stream",
     "text": [
      "Insured building has statistically significant difference in average likelihood of going to be lapsed\n"
     ]
    }
   ],
   "source": [
    "if sp.ttest_ind(df[df[\"lapse\"] == 1][\"SUM_INSURED_BUILDINGS\"], \n",
    "                df[df[\"lapse\"] == 0][\"SUM_INSURED_BUILDINGS\"])[1] < .05:\n",
    "    print(\"Insured building has statistically significant difference in average likelihood of going to be lapsed\")\n",
    "else:\n",
    "    print(\"Insured building does not have statistically significant difference in average likelihood of going to be lapsed\")"
   ]
  },
  {
   "cell_type": "markdown",
   "metadata": {},
   "source": [
    "#### Personal Items"
   ]
  },
  {
   "cell_type": "code",
   "execution_count": 131,
   "metadata": {},
   "outputs": [
    {
     "data": {
      "text/plain": [
       "50000.0     178973\n",
       "0.0           8735\n",
       "75000.0        671\n",
       "60000.0        309\n",
       "70000.0         98\n",
       "100000.0        59\n",
       "65000.0         54\n",
       "55000.0         44\n",
       "80000.0         40\n",
       "85000.0         11\n",
       "90000.0          9\n",
       "Name: SUM_INSURED_CONTENTS, dtype: int64"
      ]
     },
     "execution_count": 131,
     "metadata": {},
     "output_type": "execute_result"
    }
   ],
   "source": [
    "df[\"SUM_INSURED_CONTENTS\"].value_counts()"
   ]
  },
  {
   "cell_type": "code",
   "execution_count": 142,
   "metadata": {},
   "outputs": [
    {
     "name": "stdout",
     "output_type": "stream",
     "text": [
      "Average likelihood of going to be lapsed for sum of insured personal items = 50000.0 is 0.28\n",
      "Average likelihood of going to be lapsed for sum of insured personal items = 75000.0 is 0.42\n",
      "Average likelihood of going to be lapsed for sum of insured personal items = 60000.0 is 0.35\n",
      "Average likelihood of going to be lapsed for sum of insured personal items = 0.0 is 0.3\n",
      "Average likelihood of going to be lapsed for sum of insured personal items = 70000.0 is 0.38\n",
      "Average likelihood of going to be lapsed for sum of insured personal items = 65000.0 is 0.48\n",
      "Average likelihood of going to be lapsed for sum of insured personal items = 100000.0 is 0.46\n",
      "Average likelihood of going to be lapsed for sum of insured personal items = 80000.0 is 0.42\n",
      "Average likelihood of going to be lapsed for sum of insured personal items = 90000.0 is 0.44\n",
      "Average likelihood of going to be lapsed for sum of insured personal items = 55000.0 is 0.39\n",
      "Average likelihood of going to be lapsed for sum of insured personal items = 85000.0 is 0.55\n"
     ]
    }
   ],
   "source": [
    "contents = df[\"SUM_INSURED_CONTENTS\"].unique()\n",
    "\n",
    "for content in contents:\n",
    "    print(\"Average likelihood of going to be lapsed for sum of insured personal items = \" + \n",
    "          str(content) +\n",
    "          \" is \" +\n",
    "          str(round(df[df[\"SUM_INSURED_CONTENTS\"] == content][\"lapse\"].mean(),2))\n",
    "         )"
   ]
  },
  {
   "cell_type": "code",
   "execution_count": 132,
   "metadata": {},
   "outputs": [
    {
     "name": "stdout",
     "output_type": "stream",
     "text": [
      "50000.0 class has significantly different mean from rest of the classes\n",
      "75000.0 class has significantly different mean from rest of the classes\n",
      "60000.0 class has significantly different mean from rest of the classes\n",
      "0.0 class has significantly different mean from rest of the classes\n",
      "70000.0 class has significantly different mean from rest of the classes\n",
      "65000.0 class has significantly different mean from rest of the classes\n",
      "100000.0 class has significantly different mean from rest of the classes\n",
      "80000.0 class has significantly different mean from rest of the classes\n",
      "90000.0 class's mean is not different from rest of the classes\n",
      "55000.0 class's mean is not different from rest of the classes\n",
      "85000.0 class has significantly different mean from rest of the classes\n"
     ]
    }
   ],
   "source": [
    "for content in contents:\n",
    "    if sp.ttest_ind(df[df[\"SUM_INSURED_CONTENTS\"] == content][\"lapse\"], df[df[\"SUM_INSURED_CONTENTS\"] != content][\"lapse\"])[1] < .05:\n",
    "        print(str(content) +\n",
    "              \" class has significantly different mean from rest of the classes\")\n",
    "    else:\n",
    "        print(str(content) +\n",
    "              \" class's mean is not different from rest of the classes\")"
   ]
  },
  {
   "cell_type": "code",
   "execution_count": 137,
   "metadata": {},
   "outputs": [
    {
     "data": {
      "image/png": "[encoded data removed]",
      "text/plain": [
       "<Figure size 720x360 with 1 Axes>"
      ]
     },
     "metadata": {
      "needs_background": "light"
     },
     "output_type": "display_data"
    }
   ],
   "source": [
    "plt.figure(figsize=(10,5))\n",
    "sns.boxplot(x = \"SUM_INSURED_CONTENTS\", y = \"lapse\", \n",
    "            data = df)\n",
    "plt.title(\"Box plot of insured personal items\")\n",
    "plt.xlabel(\"Sum insured personal items\")\n",
    "plt.ylabel(\"Likelihood of going to be lapsed\")\n",
    "plt.show()"
   ]
  },
  {
   "cell_type": "markdown",
   "metadata": {},
   "source": [
    "#### Valuable Personal Property"
   ]
  },
  {
   "cell_type": "code",
   "execution_count": 144,
   "metadata": {},
   "outputs": [
    {
     "data": {
      "text/plain": [
       "2155"
      ]
     },
     "execution_count": 144,
     "metadata": {},
     "output_type": "execute_result"
    }
   ],
   "source": [
    "df[\"SPEC_SUM_INSURED\"].nunique()"
   ]
  },
  {
   "cell_type": "code",
   "execution_count": 145,
   "metadata": {},
   "outputs": [
    {
     "data": {
      "image/png": "[encoded data removed]",
      "text/plain": [
       "<Figure size 432x288 with 1 Axes>"
      ]
     },
     "metadata": {
      "needs_background": "light"
     },
     "output_type": "display_data"
    }
   ],
   "source": [
    "plt.hist(df[\"SPEC_SUM_INSURED\"])\n",
    "plt.title(\"Histogram of Valuable Personal Property distribution\")\n",
    "plt.xlabel(\"Valuable Personal Property\")\n",
    "plt.ylabel(\"Count\")\n",
    "plt.show()"
   ]
  },
  {
   "cell_type": "code",
   "execution_count": 146,
   "metadata": {},
   "outputs": [
    {
     "data": {
      "image/png": "[encoded data removed]",
      "text/plain": [
       "<Figure size 432x288 with 1 Axes>"
      ]
     },
     "metadata": {
      "needs_background": "light"
     },
     "output_type": "display_data"
    }
   ],
   "source": [
    "sns.boxplot(x = \"lapse\", y = \"SPEC_SUM_INSURED\", data = df)\n",
    "plt.title(\"Box plot of lapse against Valuable Personal Property\")\n",
    "plt.xlabel(\"Lapse status\")\n",
    "plt.ylabel(\"Sum of Valuable Personal Property\")\n",
    "plt.show()"
   ]
  },
  {
   "cell_type": "code",
   "execution_count": 147,
   "metadata": {},
   "outputs": [
    {
     "name": "stdout",
     "output_type": "stream",
     "text": [
      "Average Valuable Personal Property in lapsed cohort is 436.58\n",
      "Average Valuable Personal Property in non-lapsed cohort is 288.28\n"
     ]
    }
   ],
   "source": [
    "print(\"Average Valuable Personal Property in lapsed cohort is \" +\n",
    "      str(round(df[df[\"lapse\"] == 1][\"SPEC_SUM_INSURED\"].mean(),2))\n",
    "     )\n",
    "print(\"Average Valuable Personal Property in non-lapsed cohort is \" +\n",
    "      str(round(df[df[\"lapse\"] == 0][\"SPEC_SUM_INSURED\"].mean(),2))\n",
    "     )"
   ]
  },
  {
   "cell_type": "code",
   "execution_count": 148,
   "metadata": {},
   "outputs": [
    {
     "name": "stdout",
     "output_type": "stream",
     "text": [
      "Lapsed cohort has statistically significant difference in average Valuable Personal Property\n"
     ]
    }
   ],
   "source": [
    "if sp.ttest_ind(df[df[\"lapse\"] == 1][\"SPEC_SUM_INSURED\"], df[df[\"lapse\"] == 0][\"SPEC_SUM_INSURED\"])[1] < .05:\n",
    "    print(\"Lapsed cohort has statistically significant difference in average Valuable Personal Property\")\n",
    "else:\n",
    "    print(\"Lapsed cohort does not have statistically significant difference in average Valuable Personal Property\")"
   ]
  },
  {
   "cell_type": "markdown",
   "metadata": {},
   "source": [
    "## Properties"
   ]
  },
  {
   "cell_type": "code",
   "execution_count": 149,
   "metadata": {},
   "outputs": [
    {
     "data": {
      "text/plain": [
       "N    174908\n",
       "Y     14095\n",
       "Name: APPR_ALARM, dtype: int64"
      ]
     },
     "execution_count": 149,
     "metadata": {},
     "output_type": "execute_result"
    }
   ],
   "source": [
    "df[\"APPR_ALARM\"].value_counts()"
   ]
  },
  {
   "cell_type": "code",
   "execution_count": 153,
   "metadata": {},
   "outputs": [
    {
     "name": "stdout",
     "output_type": "stream",
     "text": [
      "Average likelihood of going to be lapsed for properties with appropriate alarm is 0.29\n",
      "Average likelihood of going to be lapsed for properties with inappropriate alarm is 0.28\n"
     ]
    }
   ],
   "source": [
    "print(\"Average likelihood of going to be lapsed for properties with appropriate alarm is \" +\n",
    "      str(round(df[df[\"APPR_ALARM\"] == \"Y\"][\"lapse\"].mean(),2))\n",
    "     )\n",
    "print(\"Average likelihood of going to be lapsed for properties with inappropriate alarm is \" +\n",
    "      str(round(df[df[\"APPR_ALARM\"] == \"N\"][\"lapse\"].mean(),2))\n",
    "     )"
   ]
  },
  {
   "cell_type": "code",
   "execution_count": 164,
   "metadata": {},
   "outputs": [
    {
     "name": "stdout",
     "output_type": "stream",
     "text": [
      "Properties with appropriate alarm has statistically significant difference in average likelihood of going to be lapsed\n"
     ]
    }
   ],
   "source": [
    "if sp.ttest_ind(df[df[\"APPR_ALARM\"] == \"Y\"][\"lapse\"], \n",
    "                df[df[\"APPR_ALARM\"] == \"N\"][\"lapse\"])[1] < .05:\n",
    "    print(\"Properties with appropriate alarm has statistically significant difference in average likelihood of going to be lapsed\")\n",
    "else:\n",
    "    print(\"Properties with appropriate alarm does not have statistically significant difference in average likelihood of going to be lapsed\")"
   ]
  },
  {
   "cell_type": "code",
   "execution_count": 151,
   "metadata": {},
   "outputs": [
    {
     "data": {
      "text/plain": [
       "Y    133913\n",
       "N     55090\n",
       "Name: APPR_LOCKS, dtype: int64"
      ]
     },
     "execution_count": 151,
     "metadata": {},
     "output_type": "execute_result"
    }
   ],
   "source": [
    "df[\"APPR_LOCKS\"].value_counts()"
   ]
  },
  {
   "cell_type": "code",
   "execution_count": 156,
   "metadata": {},
   "outputs": [
    {
     "name": "stdout",
     "output_type": "stream",
     "text": [
      "Average likelihood of going to be lapsed for properties with appropriate locks is 0.29\n",
      "Average likelihood of going to be lapsed for properties with inappropriate locks is 0.26\n"
     ]
    }
   ],
   "source": [
    "print(\"Average likelihood of going to be lapsed for properties with appropriate locks is \" +\n",
    "      str(round(df[df[\"APPR_LOCKS\"] == \"Y\"][\"lapse\"].mean(),2))\n",
    "     )\n",
    "print(\"Average likelihood of going to be lapsed for properties with inappropriate locks is \" +\n",
    "      str(round(df[df[\"APPR_LOCKS\"] == \"N\"][\"lapse\"].mean(),2))\n",
    "     )"
   ]
  },
  {
   "cell_type": "code",
   "execution_count": 162,
   "metadata": {},
   "outputs": [
    {
     "name": "stdout",
     "output_type": "stream",
     "text": [
      "Properties with appropriate locks has statistically significant difference in average likelihood of going to be lapsed\n"
     ]
    }
   ],
   "source": [
    "if sp.ttest_ind(df[df[\"APPR_LOCKS\"] == \"Y\"][\"lapse\"], \n",
    "                df[df[\"APPR_LOCKS\"] == \"N\"][\"lapse\"])[1] < .05:\n",
    "    print(\"Properties with appropriate locks has statistically significant difference in average likelihood of going to be lapsed\")\n",
    "else:\n",
    "    print(\"Properties with appropriate locks does not have statistically significant difference in average likelihood of going to be lapsed\")"
   ]
  },
  {
   "cell_type": "code",
   "execution_count": 158,
   "metadata": {},
   "outputs": [
    {
     "data": {
      "text/plain": [
       "3.0    98841\n",
       "2.0    52968\n",
       "4.0    23991\n",
       "1.0     9804\n",
       "5.0     3264\n",
       "6.0      118\n",
       "7.0       17\n",
       "Name: BEDROOMS, dtype: int64"
      ]
     },
     "execution_count": 158,
     "metadata": {},
     "output_type": "execute_result"
    }
   ],
   "source": [
    "df[\"BEDROOMS\"].value_counts()"
   ]
  },
  {
   "cell_type": "code",
   "execution_count": 161,
   "metadata": {},
   "outputs": [
    {
     "data": {
      "image/png": "[encoded data removed]",
      "text/plain": [
       "<Figure size 432x288 with 1 Axes>"
      ]
     },
     "metadata": {
      "needs_background": "light"
     },
     "output_type": "display_data"
    }
   ],
   "source": [
    "sns.boxplot(x = \"lapse\", y = \"BEDROOMS\", data = df)\n",
    "plt.title(\"Box plot of lapse against number of bedrooms\")\n",
    "plt.xlabel(\"Lapse status\")\n",
    "plt.ylabel(\"number of bedrooms\")\n",
    "plt.show()"
   ]
  },
  {
   "cell_type": "code",
   "execution_count": 182,
   "metadata": {},
   "outputs": [
    {
     "name": "stdout",
     "output_type": "stream",
     "text": [
      "Properties with appropriate locks has statistically significant difference in average likelihood of going to be lapsed\n"
     ]
    }
   ],
   "source": [
    "if sp.ttest_ind(df[df[\"APPR_LOCKS\"] == \"Y\"][\"lapse\"], \n",
    "                df[df[\"APPR_LOCKS\"] == \"N\"][\"lapse\"])[1] < .05:\n",
    "    print(\"Properties with appropriate locks has statistically significant difference in average likelihood of going to be lapsed\")\n",
    "else:\n",
    "    print(\"Properties with appropriate locks does not have statistically significant difference in average likelihood of going to be lapsed\")"
   ]
  },
  {
   "cell_type": "markdown",
   "metadata": {},
   "source": [
    "#### National heritage building\n",
    "I am not sure what does this column is showing. The majority class is 3, and I guess the natinal heritage building shouldn't be the majority class so 3 is probably not national heritage building."
   ]
  },
  {
   "cell_type": "code",
   "execution_count": 165,
   "metadata": {},
   "outputs": [
    {
     "data": {
      "text/plain": [
       "3.0    187915\n",
       "2.0       933\n",
       "4.0        75\n",
       "5.0        50\n",
       "1.0        30\n",
       "Name: LISTED, dtype: int64"
      ]
     },
     "execution_count": 165,
     "metadata": {},
     "output_type": "execute_result"
    }
   ],
   "source": [
    "df[\"LISTED\"].value_counts()"
   ]
  },
  {
   "cell_type": "code",
   "execution_count": 166,
   "metadata": {},
   "outputs": [
    {
     "data": {
      "image/png": "[encoded data removed]",
      "text/plain": [
       "<Figure size 432x288 with 1 Axes>"
      ]
     },
     "metadata": {
      "needs_background": "light"
     },
     "output_type": "display_data"
    }
   ],
   "source": [
    "sns.boxplot(x = \"lapse\", y = \"LISTED\", data = df)\n",
    "plt.title(\"Box plot of lapse against national heritage building (?)\")\n",
    "plt.xlabel(\"Lapse status\")\n",
    "plt.ylabel(\"National heritage building (?)\")\n",
    "plt.show()"
   ]
  },
  {
   "cell_type": "markdown",
   "metadata": {},
   "source": [
    "#### Year built\n",
    "Most prererties were built after 1900. I have calculated the property age. Lapse cohort has statistically significant difference in average property age."
   ]
  },
  {
   "cell_type": "code",
   "execution_count": 167,
   "metadata": {},
   "outputs": [
    {
     "data": {
      "image/png": "[encoded data removed]",
      "text/plain": [
       "<Figure size 432x288 with 1 Axes>"
      ]
     },
     "metadata": {
      "needs_background": "light"
     },
     "output_type": "display_data"
    }
   ],
   "source": [
    "plt.hist(df[\"YEARBUILT\"])\n",
    "plt.title(\"Count of year built\")\n",
    "plt.xlabel(\"Yeah the property was built\")\n",
    "plt.ylabel(\"Count\")\n",
    "plt.show()"
   ]
  },
  {
   "cell_type": "code",
   "execution_count": 176,
   "metadata": {},
   "outputs": [],
   "source": [
    "df[\"property_age\"] = 2013 - df[\"YEARBUILT\"]"
   ]
  },
  {
   "cell_type": "code",
   "execution_count": 179,
   "metadata": {},
   "outputs": [
    {
     "data": {
      "image/png": "[encoded data removed]",
      "text/plain": [
       "<Figure size 432x288 with 1 Axes>"
      ]
     },
     "metadata": {
      "needs_background": "light"
     },
     "output_type": "display_data"
    }
   ],
   "source": [
    "plt.hist(df[\"property_age\"])\n",
    "plt.title(\"Count of property age\")\n",
    "plt.xlabel(\"Property age\")\n",
    "plt.ylabel(\"Count\")\n",
    "plt.show()"
   ]
  },
  {
   "cell_type": "code",
   "execution_count": 180,
   "metadata": {},
   "outputs": [
    {
     "data": {
      "image/png": "[encoded data removed]",
      "text/plain": [
       "<Figure size 432x288 with 1 Axes>"
      ]
     },
     "metadata": {
      "needs_background": "light"
     },
     "output_type": "display_data"
    }
   ],
   "source": [
    "sns.boxplot(x = \"lapse\", y = \"property_age\", data = df)\n",
    "plt.title(\"Box plot of lapse against property age\")\n",
    "plt.xlabel(\"Lapse status\")\n",
    "plt.ylabel(\"Property age\")\n",
    "plt.show()"
   ]
  },
  {
   "cell_type": "code",
   "execution_count": 183,
   "metadata": {},
   "outputs": [
    {
     "name": "stdout",
     "output_type": "stream",
     "text": [
      "Lapse cohort has statistically significant difference in average property age\n"
     ]
    }
   ],
   "source": [
    "if sp.ttest_ind(df[df[\"lapse\"] == 1][\"property_age\"], \n",
    "                df[df[\"lapse\"] == 0][\"property_age\"])[1] < .05:\n",
    "    print(\"Lapse cohort has statistically significant difference in average property age\")\n",
    "else:\n",
    "    print(\"Lapse cohort does not have statistically significant difference in average property age\")"
   ]
  },
  {
   "cell_type": "markdown",
   "metadata": {},
   "source": [
    "#### Occupancy\n",
    "Occupancy status has 7 classes but not sure what do those classes mean. I guess \"PH\" is permanent housing? Same for ownership type, this column has some integers but don't know what are those integers. "
   ]
  },
  {
   "cell_type": "code",
   "execution_count": 184,
   "metadata": {},
   "outputs": [
    {
     "data": {
      "text/plain": [
       "PH    188193\n",
       "LP       606\n",
       "HH       124\n",
       "UN        72\n",
       "WD         4\n",
       "WE         2\n",
       "OT         2\n",
       "Name: OCC_STATUS, dtype: int64"
      ]
     },
     "execution_count": 184,
     "metadata": {},
     "output_type": "execute_result"
    }
   ],
   "source": [
    "df[\"OCC_STATUS\"].value_counts()"
   ]
  },
  {
   "cell_type": "code",
   "execution_count": 185,
   "metadata": {},
   "outputs": [
    {
     "data": {
      "text/plain": [
       "8.0     149740\n",
       "3.0      27387\n",
       "12.0      4686\n",
       "18.0      3647\n",
       "14.0      2610\n",
       "2.0        416\n",
       "7.0        158\n",
       "11.0       118\n",
       "13.0       109\n",
       "17.0        83\n",
       "16.0        28\n",
       "6.0         12\n",
       "1.0          5\n",
       "15.0         4\n",
       "Name: OWNERSHIP_TYPE, dtype: int64"
      ]
     },
     "execution_count": 185,
     "metadata": {},
     "output_type": "execute_result"
    }
   ],
   "source": [
    "df[\"OWNERSHIP_TYPE\"].value_counts()"
   ]
  },
  {
   "cell_type": "code",
   "execution_count": 186,
   "metadata": {},
   "outputs": [
    {
     "data": {
      "text/plain": [
       "0.0      137428\n",
       "30.0      51168\n",
       "181.0       299\n",
       "90.0         70\n",
       "180.0        20\n",
       "120.0        17\n",
       "60.0          1\n",
       "Name: MAX_DAYS_UNOCC, dtype: int64"
      ]
     },
     "execution_count": 186,
     "metadata": {},
     "output_type": "execute_result"
    }
   ],
   "source": [
    "df[\"MAX_DAYS_UNOCC\"].value_counts()"
   ]
  },
  {
   "cell_type": "code",
   "execution_count": 187,
   "metadata": {},
   "outputs": [
    {
     "data": {
      "text/plain": [
       "0.0    188796\n",
       "1.0       207\n",
       "Name: PAYING_GUESTS, dtype: int64"
      ]
     },
     "execution_count": 187,
     "metadata": {},
     "output_type": "execute_result"
    }
   ],
   "source": [
    "df[\"PAYING_GUESTS\"].value_counts()"
   ]
  },
  {
   "cell_type": "markdown",
   "metadata": {},
   "source": [
    "## Historical behaviour features\n",
    "### Payment method\n",
    "I think those classes mean non-direct debit, direct debit and other. Those customers who didn't set direct debit have higher likelihood of going to be lapsed.\n",
    "\n",
    "The result of t-test is staitstically significant for all the classes."
   ]
  },
  {
   "cell_type": "code",
   "execution_count": 191,
   "metadata": {},
   "outputs": [
    {
     "data": {
      "text/plain": [
       "NonDD       95053\n",
       "PureDD      85614\n",
       "DD-Other     8336\n",
       "Name: PAYMENT_METHOD, dtype: int64"
      ]
     },
     "execution_count": 191,
     "metadata": {},
     "output_type": "execute_result"
    }
   ],
   "source": [
    "df[\"PAYMENT_METHOD\"].value_counts()"
   ]
  },
  {
   "cell_type": "code",
   "execution_count": 234,
   "metadata": {},
   "outputs": [
    {
     "data": {
      "image/png": "[encoded data removed]",
      "text/plain": [
       "<Figure size 432x288 with 1 Axes>"
      ]
     },
     "metadata": {
      "needs_background": "light"
     },
     "output_type": "display_data"
    }
   ],
   "source": [
    "sns.boxplot(x = \"PAYMENT_METHOD\", y = \"lapse\", data = df)\n",
    "plt.title(\"Box plot of payment methods\")\n",
    "plt.xlabel(\"Payment methods\")\n",
    "plt.ylabel(\"Likelihood of going to be lapsed\")\n",
    "plt.show()"
   ]
  },
  {
   "cell_type": "code",
   "execution_count": 248,
   "metadata": {},
   "outputs": [
    {
     "name": "stdout",
     "output_type": "stream",
     "text": [
      "Average likelihood of going to be lapsed for payment method = PureDD is 0.2\n",
      "Average likelihood of going to be lapsed for payment method = NonDD is 0.35\n",
      "Average likelihood of going to be lapsed for payment method = DD-Other is 0.27\n"
     ]
    }
   ],
   "source": [
    "methods = df[\"PAYMENT_METHOD\"].unique()\n",
    "\n",
    "for method in methods:\n",
    "    print(\"Average likelihood of going to be lapsed for payment method = \" + \n",
    "          str(method) +\n",
    "          \" is \" +\n",
    "          str(round(df[df[\"PAYMENT_METHOD\"] == method][\"lapse\"].mean(),2))\n",
    "         )"
   ]
  },
  {
   "cell_type": "code",
   "execution_count": 238,
   "metadata": {},
   "outputs": [
    {
     "name": "stdout",
     "output_type": "stream",
     "text": [
      "PureDD class has significantly different mean from rest of the classes\n",
      "NonDD class has significantly different mean from rest of the classes\n",
      "DD-Other class has significantly different mean from rest of the classes\n"
     ]
    }
   ],
   "source": [
    "for method in methods:\n",
    "    if sp.ttest_ind(df[df[\"PAYMENT_METHOD\"] == method][\"lapse\"], \n",
    "                    df[df[\"PAYMENT_METHOD\"] != method][\"lapse\"])[1] < .05:\n",
    "        print(str(method) +\n",
    "              \" class has significantly different mean from rest of the classes\")\n",
    "    else:\n",
    "        print(str(method) +\n",
    "              \" class's mean is not different from rest of the classes\")"
   ]
  },
  {
   "cell_type": "markdown",
   "metadata": {},
   "source": [
    "### Payment frequency\n",
    "This column has 1 class with missing values. I guess those missing values can be assumed as 0. But still don't know the exact meaning of this column. I expected actual frequence (monthly, quarterly, etc) but this is a binary variable."
   ]
  },
  {
   "cell_type": "code",
   "execution_count": 192,
   "metadata": {},
   "outputs": [
    {
     "data": {
      "text/plain": [
       "1.0    80548\n",
       "Name: PAYMENT_FREQUENCY, dtype: int64"
      ]
     },
     "execution_count": 192,
     "metadata": {},
     "output_type": "execute_result"
    }
   ],
   "source": [
    "df[\"PAYMENT_FREQUENCY\"].value_counts()"
   ]
  },
  {
   "cell_type": "markdown",
   "metadata": {},
   "source": [
    "### Mid-term Term Adjustment"
   ]
  },
  {
   "cell_type": "code",
   "execution_count": 193,
   "metadata": {},
   "outputs": [
    {
     "data": {
      "text/plain": [
       "N    133629\n",
       "Y     55374\n",
       "Name: MTA_FLAG, dtype: int64"
      ]
     },
     "execution_count": 193,
     "metadata": {},
     "output_type": "execute_result"
    }
   ],
   "source": [
    "df[\"MTA_FLAG\"].value_counts()"
   ]
  },
  {
   "cell_type": "code",
   "execution_count": 195,
   "metadata": {},
   "outputs": [
    {
     "name": "stdout",
     "output_type": "stream",
     "text": [
      "Average likelihood of going to be lapsed for properties with midterm term adjustmnet is 0.28\n",
      "Average likelihood of going to be lapsed for properties without midterm term adjustmnet is 0.28\n"
     ]
    }
   ],
   "source": [
    "print(\"Average likelihood of going to be lapsed for properties with midterm term adjustmnet is \" +\n",
    "      str(round(df[df[\"MTA_FLAG\"] == \"Y\"][\"lapse\"].mean(),2))\n",
    "     )\n",
    "print(\"Average likelihood of going to be lapsed for properties without midterm term adjustmnet is \" +\n",
    "      str(round(df[df[\"MTA_FLAG\"] == \"N\"][\"lapse\"].mean(),2))\n",
    "     )"
   ]
  },
  {
   "cell_type": "code",
   "execution_count": 197,
   "metadata": {},
   "outputs": [
    {
     "name": "stdout",
     "output_type": "stream",
     "text": [
      "Properties with midterm term adjustmnet has statistically significant difference in average likelihood of going to be lapsed\n"
     ]
    }
   ],
   "source": [
    "if sp.ttest_ind(df[df[\"MTA_FLAG\"] == \"Y\"][\"lapse\"], \n",
    "                df[df[\"MTA_FLAG\"] == \"N\"][\"lapse\"])[1] < .05:\n",
    "    print(\"Properties with midterm term adjustmnet has statistically significant difference in average likelihood of going to be lapsed\")\n",
    "else:\n",
    "    print(\"Properties with midterm term adjustmnet does not have statistically significant difference in average likelihood of going to be lapsed\")"
   ]
  },
  {
   "cell_type": "code",
   "execution_count": 199,
   "metadata": {},
   "outputs": [
    {
     "data": {
      "text/plain": [
       "count    55374.000000\n",
       "mean        90.576399\n",
       "std        121.963927\n",
       "min       -423.080000\n",
       "25%          0.000000\n",
       "50%          0.000000\n",
       "75%        180.817500\n",
       "max       1449.240000\n",
       "Name: MTA_APRP, dtype: float64"
      ]
     },
     "execution_count": 199,
     "metadata": {},
     "output_type": "execute_result"
    }
   ],
   "source": [
    "df[\"MTA_APRP\"].describe()"
   ]
  },
  {
   "cell_type": "code",
   "execution_count": 201,
   "metadata": {},
   "outputs": [
    {
     "data": {
      "image/png": "[encoded data removed]",
      "text/plain": [
       "<Figure size 432x288 with 1 Axes>"
      ]
     },
     "metadata": {
      "needs_background": "light"
     },
     "output_type": "display_data"
    }
   ],
   "source": [
    "plt.hist(df[\"MTA_APRP\"])\n",
    "plt.title(\"Count of adjustment of the premium for Mid-Term Adjustment\")\n",
    "plt.xlabel(\"Adjustment of the premium for Mid-Term Adjustment\")\n",
    "plt.ylabel(\"Count\")\n",
    "plt.show()"
   ]
  },
  {
   "cell_type": "code",
   "execution_count": 203,
   "metadata": {},
   "outputs": [
    {
     "data": {
      "image/png": "[encoded data removed]",
      "text/plain": [
       "<Figure size 432x288 with 1 Axes>"
      ]
     },
     "metadata": {
      "needs_background": "light"
     },
     "output_type": "display_data"
    }
   ],
   "source": [
    "sns.boxplot(x = \"lapse\", y = \"property_age\", data = df)\n",
    "plt.title(\"Box plot of lapse against adjustment of the premium for Mid-Term Adjustment\")\n",
    "plt.xlabel(\"Lapse status\")\n",
    "plt.ylabel(\"Adjustment of the premium for MTA\")\n",
    "plt.show()"
   ]
  },
  {
   "cell_type": "markdown",
   "metadata": {},
   "source": [
    "### Cover period feature\n",
    "When the cover started date is more recent, the likelihood of going to be lapsed is higher, which makes sense. This difference is statistically significant."
   ]
  },
  {
   "cell_type": "code",
   "execution_count": 224,
   "metadata": {},
   "outputs": [
    {
     "data": {
      "image/png": "[encoded data removed]",
      "text/plain": [
       "<Figure size 720x360 with 1 Axes>"
      ]
     },
     "metadata": {
      "needs_background": "light"
     },
     "output_type": "display_data"
    }
   ],
   "source": [
    "years = mdates.YearLocator()\n",
    "months = mdates.MonthLocator()  \n",
    "years_fmt = mdates.DateFormatter('%Y')\n",
    "\n",
    "fig, ax = plt.subplots(figsize=(10,5))\n",
    "ax.hist(pd.to_datetime(df[\"COVER_START\"]))\n",
    "\n",
    "ax.xaxis.set_major_locator(years)\n",
    "ax.xaxis.set_major_formatter(years_fmt)\n",
    "ax.xaxis.set_minor_locator(months)\n",
    "\n",
    "\n",
    "ax.format_xdata = mdates.DateFormatter('%Y-%m-%d')\n",
    "ax.format_ydata = lambda x: '$%1.2f' %\n",
    "\n",
    "fig.autofmt_xdate()\n",
    "\n",
    "plt.title(\"Count of cover start date\")\n",
    "plt.xlabel(\"Date\")\n",
    "plt.ylabel(\"Count\")\n",
    "plt.show()"
   ]
  },
  {
   "cell_type": "code",
   "execution_count": 227,
   "metadata": {},
   "outputs": [
    {
     "data": {
      "image/png": "[encoded data removed]",
      "text/plain": [
       "<Figure size 432x288 with 1 Axes>"
      ]
     },
     "metadata": {
      "needs_background": "light"
     },
     "output_type": "display_data"
    }
   ],
   "source": [
    "df[\"cover_length\"] = 2013 - pd.to_datetime(df[\"COVER_START\"]).dt.year\n",
    "\n",
    "sns.boxplot(x = \"lapse\", y = \"cover_length\", data = df)\n",
    "plt.title(\"Box plot of lapse against cover length (years)\")\n",
    "plt.xlabel(\"Lapse status\")\n",
    "plt.ylabel(\"Cover length (years)\")\n",
    "plt.show()"
   ]
  },
  {
   "cell_type": "code",
   "execution_count": 249,
   "metadata": {},
   "outputs": [
    {
     "name": "stdout",
     "output_type": "stream",
     "text": [
      "Average cover length for lapsed cohort is 5.05\n",
      "Average likelihood of going to be lapsed for properties without midterm term adjustmnet is 6.38\n"
     ]
    }
   ],
   "source": [
    "print(\"Average cover length for lapsed cohort is \" +\n",
    "      str(round(df[df[\"lapse\"] ==1][\"cover_length\"].mean(),2))\n",
    "     )\n",
    "print(\"Average likelihood of going to be lapsed for properties without midterm term adjustmnet is \" +\n",
    "      str(round(df[df[\"lapse\"] == 0][\"cover_length\"].mean(),2))\n",
    "     )"
   ]
  },
  {
   "cell_type": "code",
   "execution_count": 228,
   "metadata": {},
   "outputs": [
    {
     "name": "stdout",
     "output_type": "stream",
     "text": [
      "Lapse cohort has statistically significant difference in average cover length\n"
     ]
    }
   ],
   "source": [
    "if sp.ttest_ind(df[df[\"lapse\"] == 1][\"cover_length\"], \n",
    "                df[df[\"lapse\"] == 0][\"cover_length\"])[1] < .05:\n",
    "    print(\"Lapse cohort has statistically significant difference in average cover length\")\n",
    "else:\n",
    "    print(\"Lapse cohort does not have statistically significant difference in average cover length\")"
   ]
  },
  {
   "cell_type": "markdown",
   "metadata": {},
   "source": [
    "### Last year total premium\n",
    "Lapsed cohort has statistically significantly higher average last year's total premium. "
   ]
  },
  {
   "cell_type": "code",
   "execution_count": 239,
   "metadata": {},
   "outputs": [
    {
     "data": {
      "image/png": "[encoded data removed]",
      "text/plain": [
       "<Figure size 432x288 with 1 Axes>"
      ]
     },
     "metadata": {
      "needs_background": "light"
     },
     "output_type": "display_data"
    }
   ],
   "source": [
    "plt.hist(df[\"LAST_ANN_PREM_GROSS\"])\n",
    "plt.title(\"Distribution of last year's total premium\")\n",
    "plt.xlabel(\"Last year's total premium\")\n",
    "plt.ylabel(\"Count\")\n",
    "plt.show()"
   ]
  },
  {
   "cell_type": "code",
   "execution_count": 231,
   "metadata": {},
   "outputs": [
    {
     "data": {
      "image/png": "[encoded data removed]",
      "text/plain": [
       "<Figure size 432x288 with 1 Axes>"
      ]
     },
     "metadata": {
      "needs_background": "light"
     },
     "output_type": "display_data"
    }
   ],
   "source": [
    "sns.boxplot(x = \"lapse\", y = \"LAST_ANN_PREM_GROSS\", data = df)\n",
    "plt.title(\"Box plot of Last year's total premium\")\n",
    "plt.xlabel(\"Lapse status\")\n",
    "plt.ylabel(\"Last year's total premium\")\n",
    "plt.show()"
   ]
  },
  {
   "cell_type": "code",
   "execution_count": 233,
   "metadata": {},
   "outputs": [
    {
     "name": "stdout",
     "output_type": "stream",
     "text": [
      "Average last year's total premium for lapsed cohort is 196.63\n",
      "Average last year's total premium for non-lapsed cohort is 182.91\n"
     ]
    }
   ],
   "source": [
    "print(\"Average last year's total premium for lapsed cohort is \" +\n",
    "      str(round(df[df[\"lapse\"] == 1][\"LAST_ANN_PREM_GROSS\"].mean(),2))\n",
    "     )\n",
    "print(\"Average last year's total premium for non-lapsed cohort is \" +\n",
    "      str(round(df[df[\"lapse\"] == 0][\"LAST_ANN_PREM_GROSS\"].mean(),2))\n",
    "     )"
   ]
  },
  {
   "cell_type": "code",
   "execution_count": 232,
   "metadata": {},
   "outputs": [
    {
     "name": "stdout",
     "output_type": "stream",
     "text": [
      "Lapse cohort has statistically significant difference in average last year's total premium\n"
     ]
    }
   ],
   "source": [
    "if sp.ttest_ind(df[df[\"lapse\"] == 1][\"LAST_ANN_PREM_GROSS\"], \n",
    "                df[df[\"lapse\"] == 0][\"LAST_ANN_PREM_GROSS\"])[1] < .05:\n",
    "    print(\"Lapse cohort has statistically significant difference in average last year's total premium\")\n",
    "else:\n",
    "    print(\"Lapse cohort does not have statistically significant difference in average last year's total premium\")"
   ]
  },
  {
   "cell_type": "markdown",
   "metadata": {},
   "source": [
    "## Renewal features\n",
    "### Emergency option before 1st renewal"
   ]
  },
  {
   "cell_type": "code",
   "execution_count": 244,
   "metadata": {},
   "outputs": [
    {
     "data": {
      "text/plain": [
       "N    136170\n",
       "Y     52833\n",
       "Name: HOME_EM_ADDON_PRE_REN, dtype: int64"
      ]
     },
     "execution_count": 244,
     "metadata": {},
     "output_type": "execute_result"
    }
   ],
   "source": [
    "df[\"HOME_EM_ADDON_PRE_REN\"].value_counts()"
   ]
  },
  {
   "cell_type": "code",
   "execution_count": 245,
   "metadata": {},
   "outputs": [
    {
     "name": "stdout",
     "output_type": "stream",
     "text": [
      "Average likelihood of going to be lapsed for customers who had emergency option before 1st renewal is 0.27\n",
      "Average likelihood of going to be lapsed who had emergency option before 1st renewal is 0.28\n"
     ]
    }
   ],
   "source": [
    "print(\"Average likelihood of going to be lapsed for customers who had emergency option before 1st renewal is \" +\n",
    "      str(round(df[df[\"HOME_EM_ADDON_PRE_REN\"] == \"Y\"][\"lapse\"].mean(),2))\n",
    "     )\n",
    "print(\"Average likelihood of going to be lapsed who had emergency option before 1st renewal is \" +\n",
    "      str(round(df[df[\"HOME_EM_ADDON_PRE_REN\"] == \"N\"][\"lapse\"].mean(),2))\n",
    "     )"
   ]
  },
  {
   "cell_type": "code",
   "execution_count": 246,
   "metadata": {},
   "outputs": [
    {
     "name": "stdout",
     "output_type": "stream",
     "text": [
      "Customers who had emergency option before 1st renewal has statistically significant difference in average likelihood of going to be lapsed\n"
     ]
    }
   ],
   "source": [
    "if sp.ttest_ind(df[df[\"HOME_EM_ADDON_PRE_REN\"] == \"Y\"][\"lapse\"], \n",
    "                df[df[\"HOME_EM_ADDON_PRE_REN\"] == \"N\"][\"lapse\"])[1] < .05:\n",
    "    print(\"Customers who had emergency option before 1st renewal has statistically significant difference in average likelihood of going to be lapsed\")\n",
    "else:\n",
    "    print(\"Customers who had emergency option before 1st renewal does not have statistically significant difference in average likelihood of going to be lapsed\")"
   ]
  },
  {
   "cell_type": "markdown",
   "metadata": {},
   "source": [
    "### Emergency option after 1st renewal"
   ]
  },
  {
   "cell_type": "code",
   "execution_count": 247,
   "metadata": {},
   "outputs": [
    {
     "data": {
      "text/plain": [
       "N    179803\n",
       "Y      9200\n",
       "Name: HOME_EM_ADDON_POST_REN, dtype: int64"
      ]
     },
     "execution_count": 247,
     "metadata": {},
     "output_type": "execute_result"
    }
   ],
   "source": [
    "df[\"HOME_EM_ADDON_POST_REN\"].value_counts()"
   ]
  },
  {
   "cell_type": "code",
   "execution_count": 241,
   "metadata": {},
   "outputs": [
    {
     "name": "stdout",
     "output_type": "stream",
     "text": [
      "Average likelihood of going to be lapsed for customers who had emergency option before 1st renewal is 0.27\n",
      "Average likelihood of going to be lapsed who had emergency option before 1st renewal is 0.28\n"
     ]
    }
   ],
   "source": [
    "print(\"Average likelihood of going to be lapsed for customers who had emergency option before 1st renewal is \" +\n",
    "      str(round(df[df[\"HOME_EM_ADDON_POST_REN\"] == \"Y\"][\"lapse\"].mean(),2))\n",
    "     )\n",
    "print(\"Average likelihood of going to be lapsed who had emergency option before 1st renewal is \" +\n",
    "      str(round(df[df[\"HOME_EM_ADDON_POST_REN\"] == \"N\"][\"lapse\"].mean(),2))\n",
    "     )"
   ]
  },
  {
   "cell_type": "code",
   "execution_count": 246,
   "metadata": {},
   "outputs": [
    {
     "name": "stdout",
     "output_type": "stream",
     "text": [
      "Customers who had emergency option before 1st renewal has statistically significant difference in average likelihood of going to be lapsed\n"
     ]
    }
   ],
   "source": [
    "if sp.ttest_ind(df[df[\"HOME_EM_ADDON_PRE_REN\"] == \"Y\"][\"lapse\"], \n",
    "                df[df[\"HOME_EM_ADDON_PRE_REN\"] == \"N\"][\"lapse\"])[1] < .05:\n",
    "    print(\"Customers who had emergency option before 1st renewal has statistically significant difference in average likelihood of going to be lapsed\")\n",
    "else:\n",
    "    print(\"Customers who had emergency option before 1st renewal does not have statistically significant difference in average likelihood of going to be lapsed\")"
   ]
  },
  {
   "cell_type": "markdown",
   "metadata": {},
   "source": [
    "### Replacement of keys option was included before 1st renewal"
   ]
  },
  {
   "cell_type": "code",
   "execution_count": 251,
   "metadata": {},
   "outputs": [
    {
     "data": {
      "text/plain": [
       "N    180105\n",
       "Y      8898\n",
       "Name: KEYCARE_ADDON_PRE_REN, dtype: int64"
      ]
     },
     "execution_count": 251,
     "metadata": {},
     "output_type": "execute_result"
    }
   ],
   "source": [
    "df[\"KEYCARE_ADDON_PRE_REN\"].value_counts()"
   ]
  },
  {
   "cell_type": "code",
   "execution_count": 252,
   "metadata": {},
   "outputs": [
    {
     "name": "stdout",
     "output_type": "stream",
     "text": [
      "Average likelihood of going to be lapsed for customers who had key replacement option before 1st renewal is 0.29\n",
      "Average likelihood of going to be lapsed who had key replacement option before 1st renewal is 0.28\n"
     ]
    }
   ],
   "source": [
    "print(\"Average likelihood of going to be lapsed for customers who had key replacement option before 1st renewal is \" +\n",
    "      str(round(df[df[\"KEYCARE_ADDON_PRE_REN\"] == \"Y\"][\"lapse\"].mean(),2))\n",
    "     )\n",
    "print(\"Average likelihood of going to be lapsed who had key replacement option before 1st renewal is \" +\n",
    "      str(round(df[df[\"KEYCARE_ADDON_PRE_REN\"] == \"N\"][\"lapse\"].mean(),2))\n",
    "     )"
   ]
  },
  {
   "cell_type": "code",
   "execution_count": 253,
   "metadata": {},
   "outputs": [
    {
     "name": "stdout",
     "output_type": "stream",
     "text": [
      "Customers who had key replacement option before 1st renewal has statistically significant difference in average likelihood of going to be lapsed\n"
     ]
    }
   ],
   "source": [
    "if sp.ttest_ind(df[df[\"KEYCARE_ADDON_PRE_REN\"] == \"Y\"][\"lapse\"], \n",
    "                df[df[\"KEYCARE_ADDON_PRE_REN\"] == \"N\"][\"lapse\"])[1] < .05:\n",
    "    print(\"Customers who had key replacement option before 1st renewal has statistically significant difference in average likelihood of going to be lapsed\")\n",
    "else:\n",
    "    print(\"Customers who had key replacement option before 1st renewal does not have statistically significant difference in average likelihood of going to be lapsed\")"
   ]
  },
  {
   "cell_type": "code",
   "execution_count": null,
   "metadata": {},
   "outputs": [],
   "source": []
  },
  {
   "cell_type": "code",
   "execution_count": 221,
   "metadata": {},
   "outputs": [
    {
     "data": {
      "text/plain": [
       "Timestamp('1992-01-12 00:00:00')"
      ]
     },
     "execution_count": 221,
     "metadata": {},
     "output_type": "execute_result"
    }
   ],
   "source": [
    "pd.to_datetime(df[\"COVER_START\"]).min()"
   ]
  },
  {
   "cell_type": "code",
   "execution_count": 190,
   "metadata": {},
   "outputs": [
    {
     "data": {
      "text/plain": [
       "Index(['QUOTE_DATE', 'COVER_START', 'CLAIM3YEARS', 'P1_EMP_STATUS',\n",
       "       'P1_PT_EMP_STATUS', 'BUS_USE', 'CLERICAL', 'AD_BUILDINGS',\n",
       "       'RISK_RATED_AREA_B', 'SUM_INSURED_BUILDINGS', 'NCD_GRANTED_YEARS_B',\n",
       "       'AD_CONTENTS', 'RISK_RATED_AREA_C', 'SUM_INSURED_CONTENTS',\n",
       "       'NCD_GRANTED_YEARS_C', 'CONTENTS_COVER', 'BUILDINGS_COVER',\n",
       "       'SPEC_SUM_INSURED', 'SPEC_ITEM_PREM', 'UNSPEC_HRP_PREM', 'P1_DOB',\n",
       "       'P1_MAR_STATUS', 'P1_POLICY_REFUSED', 'P1_SEX', 'APPR_ALARM',\n",
       "       'APPR_LOCKS', 'BEDROOMS', 'ROOF_CONSTRUCTION', 'WALL_CONSTRUCTION',\n",
       "       'FLOODING', 'LISTED', 'MAX_DAYS_UNOCC', 'NEIGH_WATCH', 'OCC_STATUS',\n",
       "       'OWNERSHIP_TYPE', 'PAYING_GUESTS', 'PROP_TYPE', 'SAFE_INSTALLED',\n",
       "       'SEC_DISC_REQ', 'SUBSIDENCE', 'YEARBUILT', 'CAMPAIGN_DESC',\n",
       "       'PAYMENT_METHOD', 'PAYMENT_FREQUENCY', 'LEGAL_ADDON_PRE_REN',\n",
       "       'LEGAL_ADDON_POST_REN', 'HOME_EM_ADDON_PRE_REN',\n",
       "       'HOME_EM_ADDON_POST_REN', 'GARDEN_ADDON_PRE_REN',\n",
       "       'GARDEN_ADDON_POST_REN', 'KEYCARE_ADDON_PRE_REN',\n",
       "       'KEYCARE_ADDON_POST_REN', 'HP1_ADDON_PRE_REN', 'HP1_ADDON_POST_REN',\n",
       "       'HP2_ADDON_PRE_REN', 'HP2_ADDON_POST_REN', 'HP3_ADDON_PRE_REN',\n",
       "       'HP3_ADDON_POST_REN', 'MTA_FLAG', 'MTA_FAP', 'MTA_APRP', 'MTA_DATE',\n",
       "       'LAST_ANN_PREM_GROSS', 'POL_STATUS', 'i', 'Police', 'lapse', 'age',\n",
       "       'RISK_RATED_AREA_B_imputed', 'RISK_RATED_AREA_C_imputed',\n",
       "       'prpperty_age', 'property_age'],\n",
       "      dtype='object')"
      ]
     },
     "execution_count": 190,
     "metadata": {},
     "output_type": "execute_result"
    }
   ],
   "source": [
    "df.columns"
   ]
  },
  {
   "cell_type": "code",
   "execution_count": 229,
   "metadata": {},
   "outputs": [
    {
     "data": {
      "text/plain": [
       "0"
      ]
     },
     "execution_count": 229,
     "metadata": {},
     "output_type": "execute_result"
    }
   ],
   "source": [
    "df[\"LAST_ANN_PREM_GROSS\"].isnull().sum()"
   ]
  },
  {
   "cell_type": "code",
   "execution_count": 207,
   "metadata": {},
   "outputs": [
    {
     "data": {
      "text/plain": [
       "QUOTE_DATE                   109866\n",
       "COVER_START                       0\n",
       "CLAIM3YEARS                       0\n",
       "P1_EMP_STATUS                     0\n",
       "P1_PT_EMP_STATUS             187221\n",
       "BUS_USE                           0\n",
       "CLERICAL                     186059\n",
       "AD_BUILDINGS                      0\n",
       "RISK_RATED_AREA_B             48140\n",
       "SUM_INSURED_BUILDINGS             0\n",
       "NCD_GRANTED_YEARS_B               0\n",
       "AD_CONTENTS                       0\n",
       "RISK_RATED_AREA_C              8731\n",
       "SUM_INSURED_CONTENTS              0\n",
       "NCD_GRANTED_YEARS_C               0\n",
       "CONTENTS_COVER                    0\n",
       "BUILDINGS_COVER                   0\n",
       "SPEC_SUM_INSURED                  0\n",
       "SPEC_ITEM_PREM                    0\n",
       "UNSPEC_HRP_PREM                   0\n",
       "P1_DOB                            0\n",
       "P1_MAR_STATUS                     0\n",
       "P1_POLICY_REFUSED                 0\n",
       "P1_SEX                            0\n",
       "APPR_ALARM                        0\n",
       "APPR_LOCKS                        0\n",
       "BEDROOMS                          0\n",
       "ROOF_CONSTRUCTION                 0\n",
       "WALL_CONSTRUCTION                 0\n",
       "FLOODING                          0\n",
       "LISTED                            0\n",
       "MAX_DAYS_UNOCC                    0\n",
       "NEIGH_WATCH                       0\n",
       "OCC_STATUS                        0\n",
       "OWNERSHIP_TYPE                    0\n",
       "PAYING_GUESTS                     0\n",
       "PROP_TYPE                         0\n",
       "SAFE_INSTALLED                    0\n",
       "SEC_DISC_REQ                      0\n",
       "SUBSIDENCE                        0\n",
       "YEARBUILT                         0\n",
       "CAMPAIGN_DESC                189003\n",
       "PAYMENT_METHOD                    0\n",
       "PAYMENT_FREQUENCY            108455\n",
       "LEGAL_ADDON_PRE_REN               0\n",
       "LEGAL_ADDON_POST_REN              0\n",
       "HOME_EM_ADDON_PRE_REN             0\n",
       "HOME_EM_ADDON_POST_REN            0\n",
       "GARDEN_ADDON_PRE_REN              0\n",
       "GARDEN_ADDON_POST_REN             0\n",
       "KEYCARE_ADDON_PRE_REN             0\n",
       "KEYCARE_ADDON_POST_REN            0\n",
       "HP1_ADDON_PRE_REN                 0\n",
       "HP1_ADDON_POST_REN                0\n",
       "HP2_ADDON_PRE_REN                 0\n",
       "HP2_ADDON_POST_REN                0\n",
       "HP3_ADDON_PRE_REN                 0\n",
       "HP3_ADDON_POST_REN                0\n",
       "MTA_FLAG                          0\n",
       "MTA_FAP                      133629\n",
       "MTA_APRP                     133629\n",
       "MTA_DATE                     162577\n",
       "LAST_ANN_PREM_GROSS               0\n",
       "POL_STATUS                        0\n",
       "i                                 0\n",
       "Police                            0\n",
       "lapse                             0\n",
       "age                               0\n",
       "RISK_RATED_AREA_B_imputed         0\n",
       "RISK_RATED_AREA_C_imputed         0\n",
       "prpperty_age                      0\n",
       "property_age                      0\n",
       "dtype: int64"
      ]
     },
     "execution_count": 207,
     "metadata": {},
     "output_type": "execute_result"
    }
   ],
   "source": [
    "df.isnull().sum()"
   ]
  },
  {
   "cell_type": "code",
   "execution_count": null,
   "metadata": {},
   "outputs": [],
   "source": []
  }
 ],
 "metadata": {
  "kernelspec": {
   "display_name": "Python 3",
   "language": "python",
   "name": "python3"
  },
  "language_info": {
   "codemirror_mode": {
    "name": "ipython",
    "version": 3
   },
   "file_extension": ".py",
   "mimetype": "text/x-python",
   "name": "python",
   "nbconvert_exporter": "python",
   "pygments_lexer": "ipython3",
   "version": "3.8.5"
  }
 },
 "nbformat": 4,
 "nbformat_minor": 4
}
